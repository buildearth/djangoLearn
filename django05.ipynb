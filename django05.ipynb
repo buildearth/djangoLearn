{
 "cells": [
  {
   "cell_type": "markdown",
   "metadata": {},
   "source": [
    "# 模型层"
   ]
  },
  {
   "cell_type": "markdown",
   "metadata": {},
   "source": [
    "# 测试脚本"
   ]
  },
  {
   "cell_type": "markdown",
   "metadata": {},
   "source": [
    "当你只是项测试 django 中的某一个 py 文件,那么不可以不用写前后端交互的形式,而是直接写一个测试脚本即可\n",
    "\n",
    "脚本代码无论是写在应用下的test.py 还是自己单独写的py文件都可以."
   ]
  },
  {
   "cell_type": "markdown",
   "metadata": {},
   "source": [
    "测试环境的准备\n",
    "```\n",
    "import os\n",
    "if __name__ == \"__main__\":\n",
    "    os.environ.setdefault('DJANGO_SETTINGS_MODULE', 'day02.settings')\n",
    "    import django\n",
    "    django.setup()\n",
    "    \n",
    "    # 编写测试内容,测试django里面的单个py文件,所有测试代码都必须写在此处,包括import 模块.\n",
    "```"
   ]
  },
  {
   "cell_type": "markdown",
   "metadata": {},
   "source": [
    "# 单表操作"
   ]
  },
  {
   "cell_type": "markdown",
   "metadata": {},
   "source": [
    "## 增加"
   ]
  },
  {
   "cell_type": "markdown",
   "metadata": {},
   "source": [
    "方式1：\n",
    "```\n",
    "res = models.User.objects.create(name='l', age=18, register_time='2002-1-21')\n",
    "```\n",
    "\n",
    "方式2:\n",
    "\n",
    "```\n",
    "import datetime\n",
    "zhas_obj = models.User(name='zhas', age=18, register_time=datetime.datetime.now())\n",
    "zhas_obj.save()\n",
    "```"
   ]
  },
  {
   "cell_type": "markdown",
   "metadata": {},
   "source": [
    "## 删除"
   ]
  },
  {
   "cell_type": "markdown",
   "metadata": {},
   "source": [
    "在主键查找时，推荐使用**pk**，pk会自动查找到当前表的主键字段，指代的就是当前表的主键字段，用了 pk 之后，就不需要知道当前表的主键字段到底叫什么了。\n",
    "\n",
    "方式1：\n",
    "\n",
    "```\n",
    "res = models.User.objects.filter(pk=3).delete()  # 返回被删除的信息\n",
    "```\n",
    "\n",
    "方式2：\n",
    "\n",
    "```\n",
    "user_obj = models.User.objects.filter(pk=2).first()\n",
    "user_obj.delete()\n",
    "```"
   ]
  },
  {
   "cell_type": "markdown",
   "metadata": {},
   "source": [
    "## 修改"
   ]
  },
  {
   "cell_type": "markdown",
   "metadata": {},
   "source": [
    "方式1：\n",
    "\n",
    "```\n",
    "models.User.objects.filter(pk=4).update(name='zzx')\n",
    "```\n",
    "\n",
    "方式2：\n",
    "\n",
    "```\n",
    "# get 方法返回的直接就是当前的数据对象，但不推荐使用，一旦查找的数据不存在，会直接报错\n",
    "user_obj = models.User.objects.get(pk=4)  # 直接拿到User对象\n",
    "user_obj.name = 'za'\n",
    "user_obj.save()\n",
    "```"
   ]
  },
  {
   "cell_type": "markdown",
   "metadata": {},
   "source": [
    "# 13 个必会的方法"
   ]
  },
  {
   "cell_type": "markdown",
   "metadata": {},
   "source": [
    "1. all()\n",
    "\n",
    "    查询所有数据\n",
    "2. filter()\n",
    "\n",
    "    带有过滤条件的查询\n",
    "3. get()\n",
    "\n",
    "    直接拿取数据对象，不存在会报错\n",
    "4. first()\n",
    "\n",
    "    获取 queryset 中的第一个元素\n",
    "5. last()\n",
    "\n",
    "    获取 queryset 中的最后一个元素\n",
    "6. values()\n",
    "\n",
    "    可以指定后去的数据字段，获取某个或多个字段的值\n",
    "```\n",
    "    res = models.User.objects.values('name', 'age')\n",
    "    返回的是一个queryset对象，里面元素是字典对象，key为字段名。列表套字典\n",
    "```\n",
    "7. values_list()\n",
    "\n",
    "    获取某个或多个字段的值\n",
    "```\n",
    "    res = models.User.objects.values_list('name', 'age')\n",
    "    返回的是一个QuerySet 对象，里面是列表套元组的形式，[('lxt', 18),('zxx', 29)]\n",
    "```\n",
    "8. distinct()\n",
    "\n",
    "    去重\n",
    "```\n",
    "    去重一定要是一模一样的数据，如果带有主键那么肯定不一样\n",
    "    res = models.User.objects.values('name', 'age').distinct()\n",
    "    print(res)\n",
    "```\n",
    "9. order_by()\n",
    "\n",
    "    排序\n",
    "```\n",
    "    res = models.User.objects.order_by('age')  # 默认升序\n",
    "    res = models.User.objects.order_by('-age')  # 降序\n",
    "```\n",
    "10. reverse()\n",
    "\n",
    "    反转，其前提是数据已经排序了\n",
    "```\n",
    "    res = models.User.object.order_by('age').reverse()\n",
    "    print(res)\n",
    "```\n",
    "11. count()\n",
    "\n",
    "    统计当前数据的个数\n",
    "```\n",
    "    res = models.User.objects.count()\n",
    "```\n",
    "12. exclude()\n",
    "\n",
    "    排除什么在外\n",
    "```\n",
    "    res = models.User.objects.exclude(name='lxt')\n",
    "```\n",
    "13. exists()\n",
    "    判断是否存在"
   ]
  },
  {
   "cell_type": "markdown",
   "metadata": {},
   "source": [
    "# 双下划线查询"
   ]
  },
  {
   "cell_type": "markdown",
   "metadata": {},
   "source": [
    "1. 查询年龄大于35岁的记录\n",
    "\n",
    "```\n",
    "res = models.User.objects.filter(age__gt=35)\n",
    "```\n",
    "\n",
    "2. 查询年龄是18，32，或者49的记录\n",
    "\n",
    "```\n",
    "res = models.User.objects.filter(age__in=[18, 32, 49])\n",
    "```\n",
    "\n",
    "3. 查询年龄在18到40岁之间的,包含首尾\n",
    "\n",
    "```\n",
    "res = models.User.objects.filter(age__range=[18,40])\n",
    "```\n",
    "\n",
    "4. 查询名字里含有n的数据，模糊查询\n",
    "\n",
    "```\n",
    "res = models.User.objects.filter(name__contains='n')  # 区分大小写\n",
    "\n",
    "res = models.User.objects.filter(name__icontains='n')  # 忽略大小写\n",
    "```\n",
    "\n",
    "5. 以什么开头\n",
    "\n",
    "```\n",
    "res = models.User.objects.filter(name__startswith='j')\n",
    "```\n",
    "\n",
    "6. 查出注册时间是 1月的\n",
    "```\n",
    "res = models.User.objects.filter(register_time__month='1')\n",
    "```"
   ]
  },
  {
   "cell_type": "markdown",
   "metadata": {},
   "source": [
    "# 多表操作"
   ]
  },
  {
   "cell_type": "markdown",
   "metadata": {},
   "source": [
    "模型类编写\n",
    "```\n",
    "class Book(models.Model):\n",
    "    title = models.CharField(max_length=32)\n",
    "    prince = models.DecimalField(max_digits=8, decimal_places=2)\n",
    "    publish = models.DateTimeField(auto_now_add=True)\n",
    "\n",
    "    # 一对多\n",
    "    publish = models.ForeignKey(to='Publish', on_delete='CASCADE')\n",
    "\n",
    "    # 多对多\n",
    "    authors = models.ManyToManyField(to='Author')\n",
    "\n",
    "\n",
    "class Publish(models.Model):\n",
    "    name = models.CharField(max_length=32)\n",
    "    addr = models.CharField(max_length=64)\n",
    "    email = models.EmailField()\n",
    "\n",
    "\n",
    "class Author(models.Model):\n",
    "    name = models.CharField(max_length=16)\n",
    "    age = models.IntegerField()\n",
    "\n",
    "    # 一对一\n",
    "    author_detail = models.OneToOneField(to='AuthorDetail', on_delete='CASCADE')\n",
    "\n",
    "\n",
    "class AuthorDetail(models.Model):\n",
    "    phone = models.BigIntegerField()\n",
    "    addr = models.CharField(max_length=64)\n",
    "```"
   ]
  },
  {
   "cell_type": "markdown",
   "metadata": {},
   "source": [
    "创建表内容\n",
    "```\n",
    "    a1 = models.AuthorDetail.objects.create(phone=110, addr='芜湖')\n",
    "    a2 = models.AuthorDetail.objects.create(phone=120, addr='南昌')\n",
    "    a3 = models.AuthorDetail.objects.create(phone=130, addr='广西')\n",
    "    a4 = models.AuthorDetail.objects.create(phone=140, addr='西宁')\n",
    "\n",
    "    models.Author.objects.create(name='js', age=18, author_detail=a1)\n",
    "    models.Author.objects.create(name='wx', age=28, author_detail=a2)\n",
    "    models.Author.objects.create(name='za', age=20, author_detail=a3)\n",
    "    models.Author.objects.create(name='po', age=46, author_detail=a4)\n",
    "\n",
    "    models.Publish.objects.create(name='shanghai', addr='sourth', email='123@qq.com')\n",
    "    models.Publish.objects.create(name='xian', addr='north', email='456@qq.com')\n",
    "```"
   ]
  },
  {
   "cell_type": "markdown",
   "metadata": {},
   "source": [
    "## 一对多 外键的增删查改"
   ]
  },
  {
   "cell_type": "markdown",
   "metadata": {},
   "source": [
    "### 增"
   ]
  },
  {
   "cell_type": "markdown",
   "metadata": {},
   "source": [
    "方式1：\n",
    "\n",
    "    直接写实际字段（数据库表中的字段），写主键id的值\n",
    "```\n",
    "models.Book.objects.create(title='三国', price=123.23, publish_id=1)\n",
    "```\n",
    "\n",
    "方式2：\n",
    "\n",
    "    虚拟字段(模型类中属性名字)，写对应关联的对象\n",
    "```\n",
    "publish_obj = models.Publish.objects.filter(pk=2).first()\n",
    "models.Book.objects.create(title='三国', price=123.23, publish=publish_obj)\n",
    "    \n",
    "```\n"
   ]
  },
  {
   "cell_type": "markdown",
   "metadata": {},
   "source": [
    "### 删除"
   ]
  },
  {
   "cell_type": "markdown",
   "metadata": {},
   "source": [
    "删除出版社，就会级联删除出版社下所有的书籍\n",
    "\n",
    "```\n",
    "models.Publish.objects.filter(pk=2).delete()\n",
    "```"
   ]
  },
  {
   "cell_type": "markdown",
   "metadata": {},
   "source": [
    "### 修改"
   ]
  },
  {
   "cell_type": "markdown",
   "metadata": {},
   "source": [
    "方式1：\n",
    "\n",
    "```\n",
    "models.Book.objects.filter(pk=1).update(publish_id=2)\n",
    "```\n",
    "\n",
    "方式2：\n",
    "```\n",
    "publish_obj = models.Publish.objects.filter(pk=2).first()\n",
    "models.Book.objects.filter(pk=1).update(publish=publish_obj)\n",
    "```"
   ]
  },
  {
   "cell_type": "markdown",
   "metadata": {},
   "source": [
    "## 多对多的增删查改"
   ]
  },
  {
   "cell_type": "markdown",
   "metadata": {},
   "source": [
    "本质就是在操作第三张表"
   ]
  },
  {
   "cell_type": "markdown",
   "metadata": {},
   "source": [
    "### 增加"
   ]
  },
  {
   "cell_type": "markdown",
   "metadata": {},
   "source": [
    "给书籍添加作者\n",
    "```\n",
    "book_obj = models.Book.objects.filter(pk=1).first()\n",
    "print(book_obj.authors)  # 相当于已经到了第三张关系表了\n",
    "book_obj.author.add(1)  # 书籍id为1的书籍绑定一个主键为1的作者\n",
    "book_obj.author.add(2,3)\n",
    "\n",
    "add 给第三张表添加数据，括号内既可以传数字也可以传对象，并且都支持多个\n",
    "```"
   ]
  },
  {
   "cell_type": "markdown",
   "metadata": {},
   "source": [
    "### 删除"
   ]
  },
  {
   "cell_type": "markdown",
   "metadata": {},
   "source": [
    "```\n",
    "book_obj = models.Book.objects.filter(pk=1).first()\n",
    "book_obj.authors.remove(2)\n",
    "```"
   ]
  },
  {
   "cell_type": "markdown",
   "metadata": {},
   "source": [
    "### 修改"
   ]
  },
  {
   "cell_type": "markdown",
   "metadata": {},
   "source": [
    "```\n",
    "book_obj.authors.set((1,3))  # 括号内必须是可迭代对象\n",
    "\n",
    "括号内必须传递一个可迭代对象，改对象内可以是数字也可以是对象，原理是先删除后新增。\n",
    "```"
   ]
  },
  {
   "cell_type": "markdown",
   "metadata": {},
   "source": [
    "### 清空"
   ]
  },
  {
   "cell_type": "markdown",
   "metadata": {},
   "source": [
    "在第三张关系表中清空某个书籍与作者的绑定关系\n",
    "```\n",
    "book_obj.authors.clear()\n",
    "```"
   ]
  },
  {
   "cell_type": "markdown",
   "metadata": {},
   "source": [
    "## 正反向概念"
   ]
  },
  {
   "cell_type": "markdown",
   "metadata": {},
   "source": [
    "外键字段在我手上，由我查你就是正向\n",
    "\n",
    "外键字段不在我手上，由我查你就是反向"
   ]
  },
  {
   "cell_type": "markdown",
   "metadata": {},
   "source": [
    "book >>> 外键字段在书(正向) >>> publish  正向查找\n",
    "\n",
    "publish >>> 外键字段在书(反向) >>> book  反向查找"
   ]
  },
  {
   "cell_type": "markdown",
   "metadata": {},
   "source": [
    "一对多，多对多，一对一，判断均是如此。\n",
    "\n",
    "正向查询按字段，反向查询按表名小写加_set..."
   ]
  },
  {
   "cell_type": "markdown",
   "metadata": {},
   "source": [
    "## 多表查询"
   ]
  },
  {
   "cell_type": "markdown",
   "metadata": {},
   "source": [
    "### 子查询（基于对象的跨表查询）"
   ]
  },
  {
   "cell_type": "markdown",
   "metadata": {},
   "source": [
    "1. 查询书籍主键为1的出版社\n",
    "```\n",
    "book_obj = models.Book.objects.filter(pk=1).first()\n",
    "# 书查出版社，正向\n",
    "res = book_obj.publish  # 拿到的是Publish 对象\n",
    "print(res.name, res.addr)  # 出版社的名字和地址\n",
    "```"
   ]
  },
  {
   "cell_type": "markdown",
   "metadata": {},
   "source": [
    "2. 查询书籍主键为2的作者\n",
    "```\n",
    "book_obj = models.Book.objects.filter(pk=1).first()\n",
    "# 书查作者，正向\n",
    "res = book_obj.publish.all()  # 拿到的是所有作者的列表 对象\n",
    "```"
   ]
  },
  {
   "cell_type": "markdown",
   "metadata": {},
   "source": [
    "3. 查询作者lxt的电话号码\n",
    "```\n",
    "author_obj = models.Author.objects.filter(name='lxt').first()\n",
    "# 作者查询作者详细信息，正向\n",
    "res = author_obj.author_detail\n",
    "print(res.phone)\n",
    "```"
   ]
  },
  {
   "cell_type": "markdown",
   "metadata": {},
   "source": [
    "正向什么时候需要加**.all()**?\n",
    "\n",
    "当你的结果可能有多个的时候需要加.all()，如果是一个则直接拿到数据对象"
   ]
  },
  {
   "cell_type": "markdown",
   "metadata": {},
   "source": [
    "4. 查询出版社是东方出版社出版的书\n",
    "```\n",
    "publish_obj = models.Publish.objects.filter(name=\"东方出版社\").first()\n",
    "# 出版社 查书， 反向\n",
    "res = publish_obj.book_set.all()  # 书籍对象的QuerySet对象\n",
    "```"
   ]
  },
  {
   "cell_type": "markdown",
   "metadata": {},
   "source": [
    "5. 查询作者是lxt写过的书\n",
    "```\n",
    "author_obj = models.Author.objects.filter(name='lxt').first()\n",
    "# 作者 查书，反向\n",
    "res = author_obj.book_set.all()\n",
    "```"
   ]
  },
  {
   "cell_type": "markdown",
   "metadata": {},
   "source": [
    "6. 查询手机号是110的作者\n",
    "```\n",
    "author_detail_obj = models.AuthorDetail.objects.filter(phone=110).first()\n",
    "res = author_detail_obj.author  # 直接拿到作者对象\n",
    "print(res.name)\n",
    "```"
   ]
  },
  {
   "cell_type": "markdown",
   "metadata": {},
   "source": [
    "反向查询时，表名小写后什么时候需要加_set.all()?\n",
    "\n",
    "    当你的查询结果是多个的时候必须加_set.all(),查询结果是1个的时候只需要在_set"
   ]
  },
  {
   "cell_type": "markdown",
   "metadata": {},
   "source": [
    "### 联表查询（基于双下划线的跨表查询）"
   ]
  },
  {
   "cell_type": "markdown",
   "metadata": {},
   "source": [
    "1. 查询lxt的手机号 （一行代码搞定）\n",
    "\n",
    "```\n",
    "res = models.Author.objects.filter(name='lxt').value('author_detail__phone')\n",
    "\n",
    "先用正反向的概念来跨表，在使用 __字段 来取对应数据\n",
    "\n",
    "#反向方式  查询lxt的手机号和作者姓名\n",
    "res  = models.AuthorDetail.objects.filter(author__name='lxt')  # 拿作者姓名是lxt的作者详情\n",
    "res  = models.AuthorDetail.objects.filter(author__name='lxt').values('phone', 'author__name')\n",
    "print(res.phone)\n",
    "\n",
    "```"
   ]
  },
  {
   "cell_type": "markdown",
   "metadata": {},
   "source": [
    "2. 查询书籍主键为1的出版社名称和书的名称\n",
    "```\n",
    "res = models.Book.objects.filter(pk=1).value('name', 'publish__name')\n",
    "```"
   ]
  },
  {
   "cell_type": "markdown",
   "metadata": {},
   "source": [
    "3. 查询书籍主键是1的作者的手机号\n",
    "\n",
    "```\n",
    "res = models.Book.objects.filter(pk=1).values('authors__author_detail__phone')\n",
    "\n",
    "authors 跨到Author表\n",
    "authors__author_detail 跨到 AuthorDetail表\n",
    "authors__author_detail__phone 拿到数据\n",
    "\n",
    "filter,values中均可以使用正反向概念，使用双下划线就可以无限制跨表\n",
    "```"
   ]
  },
  {
   "cell_type": "markdown",
   "metadata": {},
   "source": [
    "作业：编写一个图书管理系统"
   ]
  }
 ],
 "metadata": {
  "kernelspec": {
   "display_name": "Python 3",
   "language": "python",
   "name": "python3"
  },
  "language_info": {
   "codemirror_mode": {
    "name": "ipython",
    "version": 3
   },
   "file_extension": ".py",
   "mimetype": "text/x-python",
   "name": "python",
   "nbconvert_exporter": "python",
   "pygments_lexer": "ipython3",
   "version": "3.8.5"
  }
 },
 "nbformat": 4,
 "nbformat_minor": 4
}
