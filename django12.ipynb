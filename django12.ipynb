{
 "cells": [
  {
   "cell_type": "markdown",
   "metadata": {},
   "source": [
    "权限管理\n",
    "\n",
    "    借助django中间件实现网站的权限校验\n",
    "    \n",
    "Auth模块\n",
    "\n",
    "    只要是跟用户相关的登录、注册、校验、修改密码、注销、验证用户是否登录"
   ]
  },
  {
   "cell_type": "markdown",
   "metadata": {},
   "source": [
    "# auth 模块"
   ]
  },
  {
   "cell_type": "markdown",
   "metadata": {},
   "source": [
    "## auth 方法"
   ]
  },
  {
   "cell_type": "markdown",
   "metadata": {},
   "source": [
    "```python\n",
    "from django.contrib import auth\n",
    "# 自动查找auth_user表，自动给密码加密再对比。对比成功返回查找到的user对象，对比失败返回None\n",
    "usr_obj = auth.authenticate(request,username=username,password=password)\n",
    "# 注意，括号内必须同时传入用户名和密码\n",
    "\n",
    "# 判断当前用户是否存在\n",
    "if user_obj:\n",
    "    # 保存用户状态\n",
    "    auth.login(request, user_obj)  # 就是在操作session表\n",
    "    # 只要执行了auth.login方法，就可以在任何地方通过request.user获取到当前登录的用户对象\n",
    "    \n",
    "    \n",
    "# 判断用户是否登录\n",
    "request.user # 有两种情况，1.已登录返回登录对象 2.未登录返回AnonymousUser匿名用户\n",
    "request.user.is_authenticated()\n",
    "\n",
    "```"
   ]
  },
  {
   "cell_type": "markdown",
   "metadata": {},
   "source": [
    "登录之后才能访问的视图函数\n",
    "\n",
    "```python\n",
    "from django.contrib.auth.decorators import login_required\n",
    "\n",
    "@login_required(login_url='/login/')  # 局部配置：用户没有登录跳转到login_url后面指定的网址\n",
    "def home(request):\n",
    "    pass\n",
    "\n",
    "\n",
    "# 全局配置，没有登录跳转到指定页面\n",
    "\n",
    "# 在settins.py中配置\n",
    "LOGIN_URL = '/login/'\n",
    "```"
   ]
  },
  {
   "cell_type": "markdown",
   "metadata": {},
   "source": [
    "用户密码修改\n",
    "\n",
    "```python\n",
    "# 先校验两次密码是否一致\n",
    "if new_password == confirm_password:\n",
    "    # 校验老密码是否正确\n",
    "    is_right = request.user.check_password(old_password)  # 自动加密对比密码\n",
    "    if is_right:\n",
    "        # 修改密码\n",
    "        request.user.set_password(new_password)\n",
    "        request.user.save()  # 真正操作数据库，保存密码\n",
    "```"
   ]
  },
  {
   "cell_type": "markdown",
   "metadata": {},
   "source": [
    "注销功能\n",
    "\n",
    "```python\n",
    "@login_required\n",
    "def logout(request):\n",
    "    auth.logout(request)  # 相当于找到session表中的当前user信息进行删除，刷新\n",
    "    return redirect('/login/')\n",
    "```"
   ]
  },
  {
   "cell_type": "markdown",
   "metadata": {},
   "source": [
    "注册功能\n",
    "\n",
    "```python\n",
    "from django.contrib.auth.models import User\n",
    "def register(request):\n",
    "    if request.method == \"POST\":\n",
    "        username = request.POST.get('username')\n",
    "        password = request.POST.get('password')\n",
    "        \n",
    "        # 操作auth_user表写入数据\n",
    "        # User.objects.create()方法不能使用，此方法写入的密码是铭文的，后面对比会出错\n",
    "        User.objects.create_user(username=username, password=password)\n",
    "    return render(request, 'register.html')\n",
    "```"
   ]
  },
  {
   "cell_type": "markdown",
   "metadata": {},
   "source": [
    "## auth 模块表扩展"
   ]
  },
  {
   "cell_type": "markdown",
   "metadata": {},
   "source": [
    "扩展auth_user表"
   ]
  },
  {
   "cell_type": "markdown",
   "metadata": {},
   "source": [
    "\n",
    "第一种方式：一对一关系来关联表，**不推荐使用**"
   ]
  },
  {
   "cell_type": "markdown",
   "metadata": {},
   "source": [
    "第二种方式：面向对象的继承\n",
    "\n",
    "```python\n",
    "class UserInfo(AbstractUser):\n",
    "    \"\"\"\n",
    "    如果继承了AbstractUser,那么在执行数据库迁移命令的时候auth_user表就不会在创建出来了。\n",
    "    而UserInfo表中会出现auth_user所有的字段外加自己扩展的字段\n",
    "    \n",
    "    使用的前提：\n",
    "        1.在继承之前没有执行过数据库迁移命令\n",
    "            auth_user没有被创建，如果当前库已经创建那么就重新换一个库\n",
    "        2.继承的类里面不要覆盖AbstracyUser里面的字段名\n",
    "            表里面的字段都不要动，只扩展额外字段即可\n",
    "        3.需要在配置文件中告诉django你要用UserInfo替代auth_user\n",
    "            AUTH_USER_MODEL = 'app01.USerInfo'  '应用名.表面'\n",
    "    \"\"\"\n",
    "    phone = models.BigIntegerField()\n",
    "```"
   ]
  }
 ],
 "metadata": {
  "kernelspec": {
   "display_name": "Python 3",
   "language": "python",
   "name": "python3"
  },
  "language_info": {
   "codemirror_mode": {
    "name": "ipython",
    "version": 3
   },
   "file_extension": ".py",
   "mimetype": "text/x-python",
   "name": "python",
   "nbconvert_exporter": "python",
   "pygments_lexer": "ipython3",
   "version": "3.8.5"
  }
 },
 "nbformat": 4,
 "nbformat_minor": 4
}
