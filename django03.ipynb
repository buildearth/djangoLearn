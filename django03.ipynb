{
 "cells": [
  {
   "cell_type": "markdown",
   "metadata": {},
   "source": [
    "# 视图层"
   ]
  },
  {
   "cell_type": "markdown",
   "metadata": {},
   "source": [
    "# JsonResponse对象"
   ]
  },
  {
   "cell_type": "markdown",
   "metadata": {},
   "source": [
    "json格式数据的作用：前后端数据交互需要使用到json作为过渡，实现跨语言传输。"
   ]
  },
  {
   "cell_type": "markdown",
   "metadata": {},
   "source": [
    "```\n",
    "import json\n",
    "from django.http import JsonResponse\n",
    "\n",
    "def ab_json(request):\n",
    "    user_dict = {'username':'xxx', 'password':'123'}\n",
    "    # 先转成json格式,手动转换\n",
    "    json_str = json.dumps(user_dict, ensure_ascii-False)\n",
    "    return HttpResponse(json_str)\n",
    "    # django 提供的方法\n",
    "    return JsonResponse(user_dict, json_dumps_params={'ensure_ascii':False})\n",
    "    # 默认是能序列化字典，序列其他python类型需要设置关键字参数safe=False\n",
    "    \n",
    "    \n",
    "```"
   ]
  },
  {
   "cell_type": "markdown",
   "metadata": {},
   "source": [
    "# form 表单上传文件及后端获取"
   ]
  },
  {
   "cell_type": "markdown",
   "metadata": {},
   "source": [
    "前端\n",
    "```\n",
    "<form action=\"\" method=\"POST\" enctype=\"multipart/form-data\">\n",
    "    <p>username:<input type=\"text\" name=\"username\"></p>\n",
    "    <p>file:<input type=\"file\" name=\"file\"></p>\n",
    "    <input type=\"submit\">\n",
    "</form>\n",
    "    \n",
    "```"
   ]
  },
  {
   "cell_type": "markdown",
   "metadata": {},
   "source": [
    "后端：\n",
    "```\n",
    "def ab_file(request)\n",
    "    if request.method == \"POST\":\n",
    "        print(request.FILES)\n",
    "        # 获取文件对象\n",
    "        file_obj = request.FILES.get('file')\n",
    "        print(file_obj.name)\n",
    "        # 存文件\n",
    "        with open(file_obj.name, 'wb') as f:\n",
    "            for line in file_obj.chunks(): # 推荐加上chunks方法，其实跟不加都一样是一航航读取存储\n",
    "                f.write(line)\n",
    "    return render(request, 'form.html')\n",
    "```"
   ]
  },
  {
   "cell_type": "markdown",
   "metadata": {},
   "source": [
    "# FBV 和 CBV"
   ]
  },
  {
   "cell_type": "markdown",
   "metadata": {},
   "source": [
    "视图函数既可以是函数也可以是类\n",
    "```\n",
    "# FBV\n",
    "def index(request):\n",
    "    return HttpResponse('index')\n",
    "    \n",
    "# CBV \n",
    "# 路由\n",
    "url(r'^login/', views.MyLogin.as_view())\n",
    "# 视图\n",
    "from django.views import View\n",
    "class Mylogin(View):\n",
    "    def get(self, request):\n",
    "        return render(request, 'form.html')\n",
    "    \n",
    "    \n",
    "    def post(self, request):\n",
    "        return HttpResponse('post 方法')\n",
    "会自动识别get和post方法分发到不同的函数。\n",
    "```"
   ]
  },
  {
   "cell_type": "markdown",
   "metadata": {},
   "source": [
    "疑问：CBV能够做到根据不同的请求方式自动匹配对应的方法并执行。如何实现？\n",
    "\n",
    "源码一探\n",
    "```\n",
    "要求掌握到不看源码也能够描述出CBV的内部执行流程。\n",
    "```\n"
   ]
  }
 ],
 "metadata": {
  "kernelspec": {
   "display_name": "Python 3",
   "language": "python",
   "name": "python3"
  },
  "language_info": {
   "codemirror_mode": {
    "name": "ipython",
    "version": 3
   },
   "file_extension": ".py",
   "mimetype": "text/x-python",
   "name": "python",
   "nbconvert_exporter": "python",
   "pygments_lexer": "ipython3",
   "version": "3.8.5"
  }
 },
 "nbformat": 4,
 "nbformat_minor": 4
}
