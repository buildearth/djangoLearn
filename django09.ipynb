{
 "cells": [
  {
   "cell_type": "markdown",
   "metadata": {},
   "source": [
    "# forms 组件"
   ]
  },
  {
   "cell_type": "markdown",
   "metadata": {},
   "source": [
    "能够完成的事情：\n",
    "    \n",
    "   - 渲染html也米娜\n",
    "   - 校验数据\n",
    "   - 展示提示信息"
   ]
  },
  {
   "cell_type": "markdown",
   "metadata": {},
   "source": [
    "## 基本使用"
   ]
  },
  {
   "cell_type": "markdown",
   "metadata": {},
   "source": [
    "写在views.py文件中\n",
    "```\n",
    "from django import forms\n",
    "\n",
    "class MyForms(forms.Form):\n",
    "    # username字符串类型最小3位最大8位\n",
    "    username = forms.CharField(min_length=3, max_length=8, lable=\"用户名\")\n",
    "    # email字段必须符合邮箱格式 xxx@xx.com\n",
    "    email = forms.EmailField()\n",
    "```"
   ]
  },
  {
   "cell_type": "markdown",
   "metadata": {},
   "source": [
    "## 校验数据"
   ]
  },
  {
   "cell_type": "markdown",
   "metadata": {},
   "source": [
    "```\n",
    "from app01 import views\n",
    "# 1 将待校验的数据组织成字典的形式传入\n",
    "form_obj = views.MyForm({'username':'lll', 'email':'123'})\n",
    "# 2判断数据是否合法，该方法只有在所有的数据都合法的情况下才会返回True\n",
    "form_obj.is_valid()\n",
    "# 3 查看所有校验通过的数据\n",
    "form_obj.cleaned_data\n",
    "# 4 查看所有不符合校验规则以及不符合的原因\n",
    "form_obj.errors\n",
    "```"
   ]
  },
  {
   "cell_type": "markdown",
   "metadata": {},
   "source": [
    " 校验数据只校验类中出现的字段，多传不影响，多传字段直接忽略\n",
    "\n",
    "校验数据，默认情况下，类中所有字段都必须传值"
   ]
  },
  {
   "cell_type": "markdown",
   "metadata": {},
   "source": [
    "## 渲染标签"
   ]
  },
  {
   "cell_type": "markdown",
   "metadata": {},
   "source": [
    "forms组件只会自动帮你渲染获取用户输入的标签（input select radio checkbox）"
   ]
  },
  {
   "cell_type": "markdown",
   "metadata": {},
   "source": [
    "views.py中\n",
    "\n",
    "```\n",
    "def index(request):\n",
    "    # 1.先产生一个空对象\n",
    "    form_obj = MyForm()\n",
    "    # 2. 直接将该空对象传递给html页面\n",
    "    return render(request, 'index.html', locals())\n",
    "```"
   ]
  },
  {
   "cell_type": "markdown",
   "metadata": {},
   "source": [
    "index.html中\n",
    "\n",
    "```\n",
    "<form action=\"\" method=\"post\">\n",
    "    <p>第一种渲染方式:代码书写极少，封装程度高，不便于后续的扩展，一般情况下只在本地测试使用</p>\n",
    "    {{ form_obj.as_p }}\n",
    "    \n",
    "    <p>第二种渲染方式:可扩展性很强，但是需要书写的代码太多</p>\n",
    "    <p>{{ form_obj.username.lable }}:{{ form_obj.username}}</p>\n",
    "    \n",
    "    <p>第三种渲染方式:代码书写简单，并且可扩展性也高</p>\n",
    "    {% for form in form_obj %}\n",
    "        <p>{{ form.lable }}:{{ form }}</p>\n",
    "    {% endfor %}\n",
    "</form>\n",
    "```"
   ]
  },
  {
   "cell_type": "markdown",
   "metadata": {},
   "source": [
    "label属性默认展示是类中定义字段名首字母大写的形式"
   ]
  },
  {
   "cell_type": "markdown",
   "metadata": {},
   "source": [
    "## 展示提示信息"
   ]
  },
  {
   "cell_type": "markdown",
   "metadata": {},
   "source": [
    "浏览器会自动帮你校验数据，但是前端的校验弱不经风，需要让浏览器不做校验：\n",
    "`<form action=\"\" method=\"post\" novalidate>`"
   ]
  },
  {
   "cell_type": "markdown",
   "metadata": {},
   "source": [
    "html文件\n",
    "\n",
    "```\n",
    "<form action=\"\" method=\"post\">\n",
    "    {% for form in form_obj %}\n",
    "        <p>{{ form.lable }}:{{ form }}\n",
    "           <span style=\"color: red\">{{ form.errors.0 }}</span>\n",
    "        </p>\n",
    "    {% endfor %}\n",
    "</form>\n",
    "```"
   ]
  },
  {
   "cell_type": "markdown",
   "metadata": {},
   "source": [
    "view.py\n",
    "\n",
    "```\n",
    "def index(request):\n",
    "    # 1 先产生一个空对象\n",
    "    form_obj = MyForm()\n",
    "    if request.method == \"POST\":\n",
    "        # 校验数据\n",
    "        form_obj = MyForm(request.POST)  # 此处精髓，与前面form_obj变量同名\n",
    "        # 判断是否合法\n",
    "        if form_obj.is_valid():\n",
    "            return HttpResponse('ok')\n",
    "        # 不合法\n",
    "        \n",
    "    return render(request, 'index.html', locals())\n",
    "```"
   ]
  },
  {
   "cell_type": "markdown",
   "metadata": {},
   "source": [
    "总结：\n",
    "- 必备的条件，get请求和post传给html页面对象的变量名必须一样\n",
    "- forms组件当你数据不合法的情况下，会保存上次数据，基于之前的数据进行修改\n",
    "- 提示信息英文修改\n",
    "\n",
    "```\n",
    "username = forms.CharField(min_length=3, max_length=8, label='用户名',\n",
    "    error_messages = {\n",
    "        'min_length':'用户名最少三位',\n",
    "        'max_length':'用户名最大八位',\n",
    "        'required':'用户名不能为空'\n",
    "    }\n",
    ")\n",
    "\n",
    "email = forms.EmailField(label=\"邮箱\",\n",
    "    error_messages={\n",
    "        'invalid':\"邮箱格式不正确\",\n",
    "        'required':\"邮箱不能为空\"\n",
    "    }\n",
    ")\n",
    "```"
   ]
  },
  {
   "cell_type": "markdown",
   "metadata": {},
   "source": [
    "## 钩子函数"
   ]
  },
  {
   "cell_type": "markdown",
   "metadata": {},
   "source": []
  }
 ],
 "metadata": {
  "kernelspec": {
   "display_name": "Python 3",
   "language": "python",
   "name": "python3"
  },
  "language_info": {
   "codemirror_mode": {
    "name": "ipython",
    "version": 3
   },
   "file_extension": ".py",
   "mimetype": "text/x-python",
   "name": "python",
   "nbconvert_exporter": "python",
   "pygments_lexer": "ipython3",
   "version": "3.8.5"
  }
 },
 "nbformat": 4,
 "nbformat_minor": 4
}
