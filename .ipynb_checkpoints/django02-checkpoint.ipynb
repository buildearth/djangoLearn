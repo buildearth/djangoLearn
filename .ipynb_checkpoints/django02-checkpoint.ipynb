{
 "cells": [
  {
   "cell_type": "markdown",
   "metadata": {},
   "source": [
    "# ORM创建表关系"
   ]
  },
  {
   "cell_type": "markdown",
   "metadata": {},
   "source": [
    "表关系：\n",
    "- 一对多\n",
    "- 多对多\n",
    "- 一对一\n",
    "- 没有关系\n",
    "\n",
    "判断表关系的方法：换位思考"
   ]
  },
  {
   "cell_type": "markdown",
   "metadata": {},
   "source": [
    "## 例如：图书、作者、出版社，来思考表关系"
   ]
  },
  {
   "cell_type": "markdown",
   "metadata": {},
   "source": [
    "```\n",
    "book 图书表\n",
    "id    title   price\n",
    "\n",
    "auther 作者表\n",
    "id    name    age\n",
    "\n",
    "publish 出版社表\n",
    "id    name    addr\n",
    "\n",
    "\n",
    "图书和出版社的关系\n",
    "    在图书的角度：一个图书只能有一个出版社来出版\n",
    "    在出版社的角度：一个出版社可以出版多个图书\n",
    "    所以，图书和出版社的关系是一对多的关系，书是多的那方，外键字段创建在多的那方。\n",
    "    \n",
    "图书和作者的关系：\n",
    "    在图书的角度：一个图书有多个作者编写\n",
    "    在作者角度：一个作者可以编写多个图书\n",
    "    所以，图书和作者的关系是多对多的关系，需要重新建一个表来存储图书和作者的关系表。\n",
    "    bookauther 图书与作者关系表\n",
    "    id book_id auther_id\n",
    "    \n",
    "作者以作者详情表：\n",
    "    是一对一的关系\n",
    "```"
   ]
  },
  {
   "cell_type": "markdown",
   "metadata": {},
   "source": [
    "## django 中 ORM 创建表关系"
   ]
  },
  {
   "cell_type": "markdown",
   "metadata": {},
   "source": [
    "```\n",
    "先将基表创建出来，再添加外键字段。\n",
    "class Book(models.Model):\n",
    "    title = models.CharField(max_length=50)\n",
    "    price = models.DecimalField(max_digits=8, decimal_places=2)\n",
    "\n",
    "\n",
    "class Auther(models.Model):\n",
    "    name = models.CharField(max_length=50)\n",
    "    age = models.IntegerField()\n",
    "\n",
    "\n",
    "class Publish(models.Model):\n",
    "    name = models.CharField(max_length=100)\n",
    "    addr = models.CharField(max_length=200)\n",
    "\n",
    "\n",
    "class AuthetDetail(models.Model):\n",
    "    phone = models.BigIntegerField()\n",
    "    addr = models.CharField(max_length=200)\n",
    "\n",
    "```"
   ]
  },
  {
   "cell_type": "markdown",
   "metadata": {},
   "source": [
    "添加外键\n",
    "```\n",
    "\n",
    "class Book(models.Model):\n",
    "    图书和出版社是一对多，并且书是多的一方，所以外键字段放在书表里面\n",
    "    publish = models.ForeignKey(to='Publish')  # 默认与出版社的主键字段关联\n",
    "    \n",
    "图书和作者是多对多关系，外键字段建在任意一方均可，但是推荐建在查询频率搞得一方. ORM 会自动帮你创建第三方表。\n",
    "    authors = models.ManyToManyField(to='Author')  # author 是一个虚拟字段，主要用来告诉orm 书表和作者表之间是多对多关系，让 orm 自动创建第三章关系表。\n",
    "\n",
    "\n",
    "class Author(models.Model):\n",
    "    作者与作者详情是一对一关系，外键建在任意一方即可，但是推荐建在查询频率较高的表中\n",
    "    author_detail = models.OneToOneField(to='AuthorDetail')\n",
    "```"
   ]
  },
  {
   "cell_type": "markdown",
   "metadata": {},
   "source": [
    "添加完成外键之后的模型类：\n",
    "```\n",
    "class Publish(models.Model):\n",
    "    name = models.CharField(max_length=100)\n",
    "    addr = models.CharField(max_length=200)\n",
    "\n",
    "\n",
    "class AuthorDetail(models.Model):\n",
    "    phone = models.BigIntegerField()\n",
    "    addr = models.CharField(max_length=200)\n",
    "\n",
    "\n",
    "class Book(models.Model):\n",
    "    title = models.CharField(max_length=50)\n",
    "    price = models.DecimalField(max_digits=8, decimal_places=2)\n",
    "    publish = models.ForeignKey(to='Publish', on_delete=models.CASCADE)\n",
    "    Author = models.ManyToManyField(to='Author')\n",
    "\n",
    "\n",
    "class Author(models.Model):\n",
    "    name = models.CharField(max_length=50)\n",
    "    age = models.IntegerField()\n",
    "    author_detail = models.OneToOneField(\n",
    "        to='AuthorDetail', on_delete=models.CASCADE)\n",
    "```"
   ]
  },
  {
   "cell_type": "markdown",
   "metadata": {},
   "source": [
    "在django1.x版本中外键默认都是级联更新删除的。\n",
    "\n",
    "在django2.x/3.x中需要设置on_delete参数来决定。"
   ]
  },
  {
   "cell_type": "markdown",
   "metadata": {},
   "source": [
    "# 路由层"
   ]
  },
  {
   "cell_type": "markdown",
   "metadata": {},
   "source": [
    "## 路由匹配"
   ]
  },
  {
   "cell_type": "markdown",
   "metadata": {},
   "source": [
    "```\n",
    "url(r'test', views.test),\n",
    "url(r'testadd', views.testadd)\n",
    "\n",
    "现象：\n",
    "    访问test和testadd 都是 views.test 视图函数。\n",
    "    \n",
    "url方法第一个参数是正则表达式：\n",
    "    只要第一个参数正则表达式能够匹配到内容，那么就会立刻停止往下匹配，直接执行对应的视图函数，如，网址输入 https://127.0.0.1:8080/testadd,第一个参数test正则匹配testadd 可以拿到数据，就不会继续往下匹配了，直接执行views.test视图函数。\n",
    "\n",
    "如何解决呢？\n",
    "url(r'^test/', views.test),\n",
    "url(r'^testadd/', views.testadd)\n",
    "```"
   ]
  },
  {
   "cell_type": "markdown",
   "metadata": {},
   "source": [
    "```\n",
    "在浏览器端输入url时没有加斜杠，django会先匹配，如果都没有匹配成功，内部会自动帮你加上斜杠，再次进行匹配。\n",
    "\n",
    "取消自动加斜杠：\n",
    "    在settings.py 中添加一行配置 APPEND_SLASH = False\n",
    "```"
   ]
  },
  {
   "cell_type": "markdown",
   "metadata": {},
   "source": [
    "```\n",
    "url正则匹配首页\n",
    "    url(r'^$', views.home)\n",
    "```"
   ]
  },
  {
   "cell_type": "markdown",
   "metadata": {},
   "source": [
    "## 无名分组"
   ]
  },
  {
   "cell_type": "markdown",
   "metadata": {},
   "source": [
    "分组：就是给某一段正则表达式用小括号括起来\n",
    "```\n",
    "url(r'^test/(\\d+)/', views.test)\n",
    "\n",
    "def test(request, xx):\n",
    "    return HttpResponse('test')\n",
    "    \n",
    "```\n",
    "无名分组就是将括号内正则表达式匹配到的内容当作位置参数传递给后面的视图函数。"
   ]
  },
  {
   "cell_type": "markdown",
   "metadata": {},
   "source": [
    "## 有名分组"
   ]
  },
  {
   "cell_type": "markdown",
   "metadata": {},
   "source": [
    "可以给正则表达式起一个别名\n",
    "```\n",
    "url(r'^test/(?P<year>\\d+)/', views.test)\n",
    "\n",
    "def test(request, year):\n",
    "    return HttpResponse('test')\n",
    "```\n",
    "有名分组就是将括号内正则表达式匹配到的内容当作关键字参数传递给后面的视图函数。"
   ]
  },
  {
   "cell_type": "markdown",
   "metadata": {},
   "source": [
    "无名有名不能混用，但是同一个分组可以使用多次。"
   ]
  },
  {
   "cell_type": "markdown",
   "metadata": {},
   "source": [
    "## 反向解析"
   ]
  },
  {
   "cell_type": "markdown",
   "metadata": {},
   "source": [
    "在前端页面和后端通过一写方法拿到一个结果，该结果可以访问到对应的url从而触发对应视图函数的执行。\n",
    "\n",
    "1. 给路由与视图函数起一个别名\n",
    "    \n",
    "    `url(r'func/',views.func, name = 'xox')`\n",
    "\n",
    "2. 反向解析\n",
    "\n",
    "    - 后端反向解析\n",
    "    \n",
    "    ```\n",
    "        from django.shortcuts import reverse\n",
    "        url = reverse('xox')\n",
    "        得到反向解析的结果\n",
    "    ```\n",
    "    \n",
    "    - 前端反向解析\n",
    "    \n",
    "    `    <a href=\"{% url 'xox' %}\">111</a>`\n",
    "    \n",
    "注意：别名不能冲突"
   ]
  },
  {
   "cell_type": "markdown",
   "metadata": {},
   "source": [
    "## 无名分组有名分组反向解析"
   ]
  },
  {
   "cell_type": "markdown",
   "metadata": {},
   "source": [
    "1. 无名分组\n",
    "\n",
    "```\n",
    "url(r'^index/(\\d+)/', views.index, name='xxx')\n",
    "\n",
    "前端：需要手动指定能匹配到的正则参数\n",
    "{% url 'xxx' 123 %}\n",
    "\n",
    "后端：\n",
    "reverse('xxx', args=(1,))\n",
    "\n",
    "手动指定数字时，代码中应该放什么？\n",
    "    数字一般情况下放的是数据的主键值， 用来做数据的编辑和删除\n",
    "```"
   ]
  },
  {
   "cell_type": "markdown",
   "metadata": {},
   "source": [
    "2. 无名分组\n",
    "\n",
    "```\n",
    "url(r'func/?P<year>\\d+/', views.func, name='ooo')\n",
    "\n",
    "前端：\n",
    "方式一 了解即可\n",
    "    {% url 'ooo' year=100 %}\n",
    "方式二 掌握\n",
    "    {% url 'ooo' 100 %}\n",
    "\n",
    "后端：\n",
    "方式一 了解即可\n",
    "    reverse('ooo', kwargs={'year':22})\n",
    "方式二 掌握\n",
    "    reverse('ooo', args=(22,))\n",
    "    \n",
    "```"
   ]
  },
  {
   "cell_type": "markdown",
   "metadata": {},
   "source": [
    "## 路由分发"
   ]
  },
  {
   "cell_type": "markdown",
   "metadata": {},
   "source": [
    "利用路由分发之后，总路由不再干预路由与视图函数的直接对应关系，而是做一个分发处理，识别当前的url是属于哪个应用下的，直接分发给对应的应用去处理"
   ]
  },
  {
   "cell_type": "markdown",
   "metadata": {},
   "source": [
    "```\n",
    "总路由：\n",
    "from django.shortcuts import include\n",
    "urlpatterns = [\n",
    "    url(r'app01/', include(app01.usls)),\n",
    "    url(r'app02/', include(app02.usls)),\n",
    "]\n",
    "\n",
    "子路由：总路由会把匹配到的部分截断，剩下的继续分发到子路由匹配\n",
    "urlpatterns = [\n",
    "    url(r'^reg/', views.reg)\n",
    "]\n",
    "```"
   ]
  },
  {
   "cell_type": "markdown",
   "metadata": {},
   "source": [
    "## 名称空间"
   ]
  },
  {
   "cell_type": "markdown",
   "metadata": {},
   "source": [
    "正常情况下反向解析是没有办法自动识别前缀的。\n",
    "\n",
    "名称空间\n",
    "总路由：\n",
    "    url(r'^app01/', include('app01.urls, namespace=app01''))\n",
    "解析：\n",
    "    reverse('app01:reg')\n",
    "    \n",
    "\n",
    "但是只要保证名字不冲突吗，就没有必要使用名称空间。一般情况下在多个app的时候，起别名会加上app的前缀，这样就能保证多个app之间名字不冲突。\n"
   ]
  },
  {
   "cell_type": "markdown",
   "metadata": {},
   "source": [
    "# django 版本区别"
   ]
  },
  {
   "cell_type": "markdown",
   "metadata": {},
   "source": [
    "## django1.x路由层使用url方法，在django2.x和3.x版本中路由层是由的是path方法"
   ]
  },
  {
   "cell_type": "markdown",
   "metadata": {},
   "source": [
    "url 第一个参数支持正则\n",
    "\n",
    "path 第一个参数不支持正则，写什么就匹配什么\n",
    "\n",
    "如果想在2.x和3.x版本中使用正则，也是有对应方法的：\n",
    "```\n",
    "from django.urls import path, re_path\n",
    "\n",
    "re_path('^index/', views.index)  # 等价于1.x中的url方法\n",
    "```"
   ]
  },
  {
   "cell_type": "markdown",
   "metadata": {},
   "source": [
    "## 1.x版本中的外键都是级联更新删除的，2.x和3.x中需要自己手动配置参数"
   ]
  },
  {
   "cell_type": "markdown",
   "metadata": {},
   "source": [
    "1.x:models.ForeignKey(to=\"Publish\")\n",
    "\n",
    "2.x，3.x:models.ForeignKey(to=\"Publish\", on_delete=models.CASADE)"
   ]
  }
 ],
 "metadata": {
  "kernelspec": {
   "display_name": "Python 3",
   "language": "python",
   "name": "python3"
  },
  "language_info": {
   "codemirror_mode": {
    "name": "ipython",
    "version": 3
   },
   "file_extension": ".py",
   "mimetype": "text/x-python",
   "name": "python",
   "nbconvert_exporter": "python",
   "pygments_lexer": "ipython3",
   "version": "3.8.5"
  }
 },
 "nbformat": 4,
 "nbformat_minor": 4
}
