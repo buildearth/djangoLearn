{
 "cells": [
  {
   "cell_type": "markdown",
   "metadata": {},
   "source": [
    "# 前后端传输数据的编码格式 （contentType）"
   ]
  },
  {
   "cell_type": "markdown",
   "metadata": {},
   "source": [
    "主要研究post请求数据的编码格式：`urlencoded,formdata,json`\n",
    "\n",
    "可以朝后端发送post请求的方式：\n",
    "    \n",
    "    - form表单\n",
    "    - ajax请求"
   ]
  },
  {
   "cell_type": "markdown",
   "metadata": {},
   "source": [
    "## form表单"
   ]
  },
  {
   "cell_type": "markdown",
   "metadata": {},
   "source": [
    "默认的数据编码格式是urlencoded\n",
    "\n",
    "数据格式：username=lxt&password=123\n",
    "\n",
    "django后端针对符合urlencoded编码格式的数据都会自动帮你解析封装到request.POST中。\n",
    "\n",
    "    username=lxt&password=123 >>> request.POST\n",
    "    \n",
    "如果把编码格式修改为multipart/formdata,那么针对普通的键值对还是解析到request.POST中，而将文件解析到request.FILES中\n",
    "\n",
    "form表单是没有办法发送json格式数据的。"
   ]
  },
  {
   "cell_type": "markdown",
   "metadata": {},
   "source": [
    "## ajax"
   ]
  },
  {
   "cell_type": "markdown",
   "metadata": {},
   "source": [
    "默认编码格式是 urlencoded\n",
    "\n",
    "数据格式：username=lxt&password=123\n",
    "\n",
    "django后端针对符合urlencoded编码格式的数据都会自动帮你解析封装到request.POST中。\n",
    "\n",
    "    username=lxt&password=123 >>> request.POST\n",
    "    \n"
   ]
  },
  {
   "cell_type": "markdown",
   "metadata": {},
   "source": [
    "# ajax发送json格式数据"
   ]
  },
  {
   "cell_type": "markdown",
   "metadata": {},
   "source": [
    "request对象方法补充\n",
    "\n",
    "    request.is_ajax() 判断当前请求是否是ajax请求，返回布尔值"
   ]
  },
  {
   "cell_type": "markdown",
   "metadata": {},
   "source": [
    "前后端传输数据的时候，一定要确保编码格式跟数据真正的格式是一致的。\n",
    "\n",
    "templates中html文件\n",
    "\n",
    "\n",
    "```\n",
    "<button class=\"btn btn-danger\" id=\"d1\">点击</button>\n",
    "<script>\n",
    "    $('d1').click(function () {\n",
    "        $.ajax({\n",
    "            url:'',\n",
    "            type:'post',\n",
    "            data:JSON.stringify({'username':'lxt', 'age':28}),\n",
    "            contentType:'application/json'  # 指定编码格式\n",
    "            success:function () {\n",
    "                \n",
    "            }\n",
    "        })\n",
    "    })\n",
    "</script>\n",
    "```"
   ]
  },
  {
   "cell_type": "markdown",
   "metadata": {},
   "source": [
    "视图函数\n",
    "```\n",
    "if request.is_ajax():\n",
    "    # 针对json格式数据需要自己手动处理\n",
    "    json_bytes = request.body  # django 后端不会帮你处理json格式数据，需要自己去request.body中取\n",
    "    json_str = json_bytes.decode('utf-8')\n",
    "    json_dict = json.loads(json_str)\n",
    "    \n",
    "    # json.loads括号内如果传入了一个二进制格式的数据，那么内部会自动解码再反序列化\n",
    "    json_dict = json.loads(json_bytes)\n",
    "    \n",
    "    print(json_dict, type(json_dict))  #{'username': 'lxt', 'age': 25} <class 'dict'>\n",
    "```"
   ]
  },
  {
   "cell_type": "markdown",
   "metadata": {},
   "source": [
    "# ajax 发送文件数据"
   ]
  },
  {
   "cell_type": "markdown",
   "metadata": {},
   "source": [
    "```\n",
    "<p>username:<input type=\"text\" id=\"d1\"></p>\n",
    "<p>password:<input type=\"text\" id=\"d2\"></p>\n",
    "<p><input type=\"file\" id=\"d3\"></p>\n",
    "<button class=\"btn btn-info\" id=\"d4\">点击</button>\n",
    "\n",
    "<script>\n",
    "    // 点击按钮后朝后盾发送普通键值对和问价数据\n",
    "    $('#d4').on('click', function () {\n",
    "        // 1 需要先 利用FormData内置对象\n",
    "        let formDataObj = new FormData()\n",
    "        // 2 添加普通键值对\n",
    "        formDataObj.append('username', $('#d1').val());\n",
    "        formDataObj.append('password', $('#d2').val());\n",
    "        // 3 添加文件对象\n",
    "        formDataObj.append('myfile', $('#d3')[0].files[0])\n",
    "        // 4 将对象基于ajax发送到后端\n",
    "        $.ajax({\n",
    "            url:'',\n",
    "            type:'post',\n",
    "            data:formDataObj,  // 直接将对象放在data后即可\n",
    "            // ajax 发送文件必须要指定的两个参数\n",
    "            contentType:false,  // 不需使用任何编码， django后端能够自动识别formdatta对象\n",
    "            processData:false,  // 告诉浏览器不要对你的数据进行任何处理\n",
    "            \n",
    "            success:function (args) {\n",
    "                \n",
    "            }\n",
    "        })\n",
    "        \n",
    "        })\n",
    "</script>\n",
    "```"
   ]
  },
  {
   "cell_type": "markdown",
   "metadata": {},
   "source": [
    "```\n",
    "if request.is_ajax():\n",
    "    if request.method == \"POST\":\n",
    "        print(request.POST)\n",
    "        prtin(request.FILES)\n",
    "        \n",
    "# django 后端能够直接识别到formdata对象并且能够将内部的普通键值对自动解析并封装到request.POST中，文件对象自动解析并且封装到request.FILES中。\n",
    "```"
   ]
  },
  {
   "cell_type": "markdown",
   "metadata": {},
   "source": [
    "# django 自带的序列化组件"
   ]
  },
  {
   "cell_type": "markdown",
   "metadata": {},
   "source": [
    "多用于前后端分离项目，主要就是写接口，写接口就是利用序列化组件渲染数据然后写一个接口文档"
   ]
  },
  {
   "cell_type": "markdown",
   "metadata": {},
   "source": [
    "```\n",
    "from django.core import serializers\n",
    "user_queryset = models.User.objects.all()\n",
    "res = serializers.serialize('json', user_queryset)\n",
    "```"
   ]
  },
  {
   "cell_type": "markdown",
   "metadata": {},
   "source": [
    "# ajax结合sweetalert"
   ]
  },
  {
   "cell_type": "markdown",
   "metadata": {},
   "source": [
    "需自行整理"
   ]
  },
  {
   "cell_type": "markdown",
   "metadata": {},
   "source": [
    "# 批量插入数据"
   ]
  },
  {
   "cell_type": "markdown",
   "metadata": {},
   "source": [
    "当你想要批量插入数据的时候，使用orm提供的bulk_create能够大大的减少操作时间\n",
    "\n",
    "```\n",
    "boot_list = []\n",
    "for i in range(10000):\n",
    "    book_obj = model.Book(title=\"第{}本书\".format(i))\n",
    "    book_list.append(book_obj)\n",
    "    \n",
    "models.Book.objects.bulk_create(book_list)\n",
    "```"
   ]
  },
  {
   "cell_type": "markdown",
   "metadata": {},
   "source": [
    "# 分页器"
   ]
  },
  {
   "cell_type": "markdown",
   "metadata": {},
   "source": [
    "```python\n",
    "class Pagination(object):\n",
    "    def __init__(self, current_page, all_count, per_page_num=2, pager_count=11):\n",
    "        \"\"\"\n",
    "        封装分页相关数据\n",
    "        :param current_page: 当前页\n",
    "        :param all_count:    数据库中的数据总条数\n",
    "        :param per_page_num: 每页显示的数据条数\n",
    "        :param pager_count:  最多显示的页码个数\n",
    "        \"\"\"\n",
    "        try:\n",
    "            current_page = int(current_page)\n",
    "        except Exception as e:\n",
    "            current_page = 1\n",
    "\n",
    "        if current_page < 1:\n",
    "            current_page = 1\n",
    "\n",
    "        self.current_page = current_page\n",
    "\n",
    "        self.all_count = all_count\n",
    "        self.per_page_num = per_page_num\n",
    "\n",
    "        # 总页码\n",
    "        all_pager, tmp = divmod(all_count, per_page_num)\n",
    "        if tmp:\n",
    "            all_pager += 1\n",
    "        self.all_pager = all_pager\n",
    "\n",
    "        self.pager_count = pager_count\n",
    "        self.pager_count_half = int((pager_count - 1) / 2)\n",
    "\n",
    "    @property\n",
    "    def start(self):\n",
    "        return (self.current_page - 1) * self.per_page_num\n",
    "\n",
    "    @property\n",
    "    def end(self):\n",
    "        return self.current_page * self.per_page_num\n",
    "\n",
    "    def page_html(self):\n",
    "        # 如果总页码 < 11个：\n",
    "        if self.all_pager <= self.pager_count:\n",
    "            pager_start = 1\n",
    "            pager_end = self.all_pager + 1\n",
    "        # 总页码  > 11\n",
    "        else:\n",
    "            # 当前页如果<=页面上最多显示11/2个页码\n",
    "            if self.current_page <= self.pager_count_half:\n",
    "                pager_start = 1\n",
    "                pager_end = self.pager_count + 1\n",
    "\n",
    "            # 当前页大于5\n",
    "            else:\n",
    "                # 页码翻到最后\n",
    "                if (self.current_page + self.pager_count_half) > self.all_pager:\n",
    "                    pager_end = self.all_pager + 1\n",
    "                    pager_start = self.all_pager - self.pager_count + 1\n",
    "                else:\n",
    "                    pager_start = self.current_page - self.pager_count_half\n",
    "                    pager_end = self.current_page + self.pager_count_half + 1\n",
    "\n",
    "        page_html_list = []\n",
    "        # 添加前面的nav和ul标签\n",
    "        page_html_list.append('''\n",
    "                    <nav aria-label='Page navigation>'\n",
    "                    <ul class='pagination'>\n",
    "                ''')\n",
    "        first_page = '<li><a href=\"?page=%s\">首页</a></li>' % (1)\n",
    "        page_html_list.append(first_page)\n",
    "\n",
    "        if self.current_page <= 1:\n",
    "            prev_page = '<li class=\"disabled\"><a href=\"#\">上一页</a></li>'\n",
    "        else:\n",
    "            prev_page = '<li><a href=\"?page=%s\">上一页</a></li>' % (self.current_page - 1,)\n",
    "\n",
    "        page_html_list.append(prev_page)\n",
    "\n",
    "        for i in range(pager_start, pager_end):\n",
    "            if i == self.current_page:\n",
    "                temp = '<li class=\"active\"><a href=\"?page=%s\">%s</a></li>' % (i, i,)\n",
    "            else:\n",
    "                temp = '<li><a href=\"?page=%s\">%s</a></li>' % (i, i,)\n",
    "            page_html_list.append(temp)\n",
    "\n",
    "        if self.current_page >= self.all_pager:\n",
    "            next_page = '<li class=\"disabled\"><a href=\"#\">下一页</a></li>'\n",
    "        else:\n",
    "            next_page = '<li><a href=\"?page=%s\">下一页</a></li>' % (self.current_page + 1,)\n",
    "        page_html_list.append(next_page)\n",
    "\n",
    "        last_page = '<li><a href=\"?page=%s\">尾页</a></li>' % (self.all_pager,)\n",
    "        page_html_list.append(last_page)\n",
    "        # 尾部添加标签\n",
    "        page_html_list.append('''\n",
    "                                           </nav>\n",
    "                                           </ul>\n",
    "                                       ''')\n",
    "        return ''.join(page_html_list)\n",
    "```"
   ]
  },
  {
   "cell_type": "markdown",
   "metadata": {},
   "source": [
    "代码无需掌握直接拷贝使用https://www.cnblogs.com/Dominic-Ji/p/10881214.html\n",
    "```\n",
    "后端：\n",
    "book_queryset = models.Book.objects.all() # 惰性查询\n",
    "currrent_page = request.GET.get('page', 1)\n",
    "all_count = book_queryset.count()\n",
    "page_obj = Pagenation(current_page=current_page.all_count=all_count)\n",
    "page_queryset = book_queryset[page_obj.start:page_obj.end]\n",
    "只需将page_obj,page_queryset传递到html页面即可\n",
    "\n",
    "前端：自定义分液器需要使用bootstrap\n",
    "{{ page_obj.page_html | safe }}\n",
    "```"
   ]
  }
 ],
 "metadata": {
  "kernelspec": {
   "display_name": "Python 3",
   "language": "python",
   "name": "python3"
  },
  "language_info": {
   "codemirror_mode": {
    "name": "ipython",
    "version": 3
   },
   "file_extension": ".py",
   "mimetype": "text/x-python",
   "name": "python",
   "nbconvert_exporter": "python",
   "pygments_lexer": "ipython3",
   "version": "3.8.5"
  }
 },
 "nbformat": 4,
 "nbformat_minor": 4
}
