{
 "cells": [
  {
   "cell_type": "markdown",
   "metadata": {},
   "source": [
    "# 前后端传输数据的编码格式 （contentType）"
   ]
  },
  {
   "cell_type": "markdown",
   "metadata": {},
   "source": [
    "主要研究post请求数据的编码格式：`urlencoded,formdata,json`\n",
    "\n",
    "可以朝后端发送post请求的方式：\n",
    "    \n",
    "    - form表单\n",
    "    - ajax请求"
   ]
  },
  {
   "cell_type": "markdown",
   "metadata": {},
   "source": [
    "## form表单"
   ]
  },
  {
   "cell_type": "markdown",
   "metadata": {},
   "source": [
    "默认的数据编码格式是urlencoded\n",
    "\n",
    "数据格式：username=lxt&password=123\n",
    "\n",
    "django后端针对符合urlencoded编码格式的数据都会自动帮你解析封装到request.POST中。\n",
    "\n",
    "    username=lxt&password=123 >>> request.POST\n",
    "    \n",
    "如果把编码格式修改为multipart/formdata,那么针对普通的键值对还是解析到request.POST中，而将文件解析到request.FILES中\n",
    "\n",
    "form表单是没有办法发送json格式数据的。"
   ]
  },
  {
   "cell_type": "markdown",
   "metadata": {},
   "source": [
    "## ajax"
   ]
  },
  {
   "cell_type": "markdown",
   "metadata": {},
   "source": [
    "默认编码格式是 urlencoded\n",
    "\n",
    "数据格式：username=lxt&password=123\n",
    "\n",
    "django后端针对符合urlencoded编码格式的数据都会自动帮你解析封装到request.POST中。\n",
    "\n",
    "    username=lxt&password=123 >>> request.POST\n",
    "    \n"
   ]
  },
  {
   "cell_type": "markdown",
   "metadata": {},
   "source": [
    "# ajax发送json格式数据"
   ]
  },
  {
   "cell_type": "markdown",
   "metadata": {},
   "source": [
    "request对象方法补充\n",
    "\n",
    "    request.is_ajax() 判断当前请求是否是ajax请求，返回布尔值"
   ]
  },
  {
   "cell_type": "markdown",
   "metadata": {},
   "source": [
    "前后端传输数据的时候，一定要确保编码格式跟数据真正的格式是一致的。\n",
    "\n",
    "templates中html文件\n",
    "\n",
    "\n",
    "```\n",
    "<button class=\"btn btn-danger\" id=\"d1\">点击</button>\n",
    "<script>\n",
    "    $('d1').click(function () {\n",
    "        $.ajax({\n",
    "            url:'',\n",
    "            type:'post',\n",
    "            data:JSON.stringify({'username':'lxt', 'age':28}),\n",
    "            contentType:'application/json'  # 指定编码格式\n",
    "            success:function () {\n",
    "                \n",
    "            }\n",
    "        })\n",
    "    })\n",
    "</script>\n",
    "```"
   ]
  },
  {
   "cell_type": "markdown",
   "metadata": {},
   "source": [
    "视图函数\n",
    "```\n",
    "if request.is_ajax():\n",
    "    # 针对json格式数据需要自己手动处理\n",
    "    json_bytes = request.body  # django 后端不会帮你处理json格式数据，需要自己去request.body中取\n",
    "    json_str = json_bytes.decode('utf-8')\n",
    "    json_dict = json.loads(json_str)\n",
    "    \n",
    "    # json.loads括号内如果传入了一个二进制格式的数据，那么内部会自动解码再反序列化\n",
    "    json_dict = json.loads(json_bytes)\n",
    "    \n",
    "    print(json_dict, type(json_dict))  #{'username': 'lxt', 'age': 25} <class 'dict'>\n",
    "```"
   ]
  },
  {
   "cell_type": "markdown",
   "metadata": {},
   "source": [
    "# ajax 发送文件数据"
   ]
  },
  {
   "cell_type": "markdown",
   "metadata": {},
   "source": [
    "```\n",
    "<p>username:<input type=\"text\" id=\"d1\"></p>\n",
    "<p>password:<input type=\"text\" id=\"d2\"></p>\n",
    "<p><input type=\"file\" id=\"d3\"></p>\n",
    "<button class=\"btn btn-info\" id=\"d4\">点击</button>\n",
    "\n",
    "<script>\n",
    "    // 点击按钮后朝后盾发送普通键值对和问价数据\n",
    "    $('#d4').on('click', function () {\n",
    "        // 1 需要先 利用FormData内置对象\n",
    "        let formDataObj = new FormData()\n",
    "        // 2 添加普通键值对\n",
    "        formDataObj.append('username', $('#d1').val());\n",
    "        formDataObj.append('password', $('#d2').val());\n",
    "        // 3 添加文件对象\n",
    "        formDataObj.append('myfile', $('#d3')[0].files[0])\n",
    "        // 4 将对象基于ajax发送到后端\n",
    "        $.ajax({\n",
    "            url:'',\n",
    "            type:'post',\n",
    "            data:formDataObj,  // 直接将对象放在data后即可\n",
    "            // ajax 发送文件必须要指定的两个参数\n",
    "            contentType:false,  // 不需使用任何编码， django后端能够自动识别formdatta对象\n",
    "            processData:false,  // 告诉浏览器不要对你的数据进行任何处理\n",
    "            \n",
    "            success:function (args) {\n",
    "                \n",
    "            }\n",
    "        })\n",
    "        \n",
    "        })\n",
    "</script>\n",
    "```"
   ]
  },
  {
   "cell_type": "markdown",
   "metadata": {},
   "source": [
    "```\n",
    "if request.is_ajax():\n",
    "    if request.method == \"POST\":\n",
    "        print(request.POST)\n",
    "        prtin(request.FILES)\n",
    "        \n",
    "# django 后端能够直接识别到formdata对象并且能够将内部的普通键值对自动解析并封装到request.POST中，文件对象自动解析并且封装到request.FILES中。\n",
    "```"
   ]
  },
  {
   "cell_type": "markdown",
   "metadata": {},
   "source": [
    "# django 自带的序列化组件"
   ]
  },
  {
   "cell_type": "markdown",
   "metadata": {},
   "source": [
    "多用于前后端分离项目，主要就是写接口，写接口就是利用序列化组件渲染数据然后写一个接口文档"
   ]
  },
  {
   "cell_type": "markdown",
   "metadata": {},
   "source": [
    "```\n",
    "from django.core import serializers\n",
    "user_queryset = models.User.objects.all()\n",
    "res = serializers.serialize('json', user_queryset)\n",
    "```"
   ]
  },
  {
   "cell_type": "markdown",
   "metadata": {},
   "source": [
    "# ajax结合sweetalert"
   ]
  },
  {
   "cell_type": "markdown",
   "metadata": {},
   "source": [
    "需自行整理"
   ]
  },
  {
   "cell_type": "markdown",
   "metadata": {},
   "source": [
    "# 批量插入数据"
   ]
  },
  {
   "cell_type": "markdown",
   "metadata": {},
   "source": [
    "当你想要批量插入数据的时候，使用orm提供的bulk_create能够大大的减少操作时间\n",
    "\n",
    "```\n",
    "boot_list = []\n",
    "for i in range(10000):\n",
    "    book_obj = model.Book(title=\"第{}本书\".format(i))\n",
    "    book_list.append(book_obj)\n",
    "    \n",
    "models.Book.objects.bulk_create(book_list)\n",
    "```"
   ]
  },
  {
   "cell_type": "markdown",
   "metadata": {},
   "source": [
    "# 分页器"
   ]
  },
  {
   "cell_type": "markdown",
   "metadata": {},
   "source": []
  }
 ],
 "metadata": {
  "kernelspec": {
   "display_name": "Python 3",
   "language": "python",
   "name": "python3"
  },
  "language_info": {
   "codemirror_mode": {
    "name": "ipython",
    "version": 3
   },
   "file_extension": ".py",
   "mimetype": "text/x-python",
   "name": "python",
   "nbconvert_exporter": "python",
   "pygments_lexer": "ipython3",
   "version": "3.8.5"
  }
 },
 "nbformat": 4,
 "nbformat_minor": 4
}
