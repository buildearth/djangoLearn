{
 "cells": [
  {
   "cell_type": "markdown",
   "metadata": {},
   "source": [
    "# 静态文件配置"
   ]
  },
  {
   "cell_type": "markdown",
   "metadata": {},
   "source": [
    "静态文件：\n",
    "- 前端写好的，能够直接调用使用的文件。\n",
    "- 网站写好的js文件\n",
    "- 网站写好的css文件\n",
    "- 网站用到的图片文件\n",
    "- 第三方框架\n",
    "\n",
    "django默认不会创建static文件夹，需要自己手动创建。\n",
    "```\n",
    "  - static\n",
    "    --js\n",
    "    --css\n",
    "    --img\n",
    "    --第三方框架\n",
    "```\n",
    "\n",
    "要访问静态资源，需对其进行配置，因为后端没有开设其资源的接口。\n",
    "\n",
    "在settings.py中的末尾添加：STATICFILES_DIRS=[os.path.join(BASE_DIR, 'static')]\n",
    "\n",
    "html文件中静态解析：\n",
    "```\n",
    "<head>\n",
    "    <meta charset=\"UTF-8\">\n",
    "    <link rel=\"stylesheet\" href=\"/static/bootstrap-3.3.7-dist/css/bootstrap.min.css\">\n",
    "    <script src=\"/static/bootstrap-3.3.7-dist/js/bootstrap.min.js\"></script>\n",
    "</head>\n",
    "<h1>登录</h1>\n",
    "```\n",
    "\n",
    "/static/是settings.py中的STATIC_URL的值，是一个令牌，拿着这个令牌就可以按顺序在STATICFILE_DIRS中查找资源。\n",
    "\n",
    "html文件中使用静态资源-静态文件动态解析\n",
    "```\n",
    "{% load static %}\n",
    "<scrip src=\"{% static 'bootstrap-22/路径' %}\">\n",
    "```  "
   ]
  },
  {
   "cell_type": "markdown",
   "metadata": {},
   "source": [
    "# form 表单提交"
   ]
  },
  {
   "cell_type": "markdown",
   "metadata": {},
   "source": [
    "```\n",
    "<head>\n",
    "    <meta charset=\"UTF-8\">\n",
    "    <link rel=\"stylesheet\" href=\"/static/bootstrap-3.3.7-dist/css/bootstrap.min.css\">\n",
    "    <script src=\"/static/bootstrap-3.3.7-dist/js/bootstrap.min.js\"></script>\n",
    "</head>\n",
    "<h1>登录</h1>\n",
    "<div class=\"container\">\n",
    "    <div class=\"row\">\n",
    "        <div class=\"col-md-8 col-md-offset-2\">\n",
    "            <form action=\"\">\n",
    "                <p>username:<input type=\"text\" name=\"username\"></p>\n",
    "                <p>password:<input type=\"password\" name=\"password\"></p>\n",
    "                <input type=\"submit\">\n",
    "            </form>\n",
    "\n",
    "        </div>\n",
    "    </div>\n",
    "</div>\n",
    "```"
   ]
  },
  {
   "cell_type": "markdown",
   "metadata": {},
   "source": [
    "form 表单中的 action 有三个设置方式：\n",
    "    \n",
    "    1. 不写，默认向当前 url 提交数据\n",
    "    2. 写全部路径\n",
    "    3. 写最后一个路径，匹配相对路径提交\n",
    "\n",
    "form 默认提交方式是 GET 请求， 增加 method=\"POST\"更改请求方式。"
   ]
  },
  {
   "cell_type": "markdown",
   "metadata": {},
   "source": [
    "# request 对象的方法"
   ]
  },
  {
   "cell_type": "markdown",
   "metadata": {},
   "source": [
    "request 是WSGIRequest对象，对http来的一系列数据进行封装，在代码中可以很方便的拿到数据。"
   ]
  },
  {
   "cell_type": "markdown",
   "metadata": {},
   "source": [
    "```\n",
    "request.method\n",
    "    获取当前请求的请求方式，返回一个python的字符串对象：\"POST\",\"GET\"。\n",
    "\n",
    "request.POST\n",
    "    获取用户提交的普通数据不包含文件，返回<QueryDict: {'username': ['11'], 'password': ['11']}>对象\n",
    "    \n",
    "username = request.POST.get('username')\n",
    "    拿到的是列表的最后一个值。\n",
    "    \n",
    "usernames = request.POST.getlist('username')\n",
    "    拿到的是整个列表。\n",
    "    \n",
    "```"
   ]
  },
  {
   "cell_type": "markdown",
   "metadata": {},
   "source": [
    "# django 连接 MySql 数据库"
   ]
  },
  {
   "cell_type": "markdown",
   "metadata": {},
   "source": [
    "## django 自带的数据库：\n",
    "```\n",
    "DATABASES = {\n",
    "    'default': {\n",
    "        'ENGINE': 'django.db.backends.sqlite3',\n",
    "        'NAME': os.path.join(BASE_DIR, 'db.sqlite3'),\n",
    "    }\n",
    "}\n",
    "```"
   ]
  },
  {
   "cell_type": "markdown",
   "metadata": {},
   "source": [
    "## 链接 MySql 数据库的配置"
   ]
  },
  {
   "cell_type": "markdown",
   "metadata": {},
   "source": [
    "```\n",
    "DATABASES = {\n",
    "    'default': {\n",
    "        'ENGINE': 'django.db.backends.mysql',\n",
    "        'NAME': database_name,  # 数据库名字\n",
    "        'USER': root,\n",
    "        'PASSWORD': admin123,\n",
    "        'HOST': '127.0.0.1',\n",
    "        'PORT': 3306,\n",
    "        'CHARSET': 'utf-8'\n",
    "    }\n",
    "}\n",
    "```"
   ]
  },
  {
   "cell_type": "markdown",
   "metadata": {},
   "source": [
    "## 代码的配置"
   ]
  },
  {
   "cell_type": "markdown",
   "metadata": {},
   "source": [
    "因为 django 底层使用的是mysqldb模块连接MySQL，但是该模块兼容性不好，需要手动改为用 pymysql 连接。"
   ]
  },
  {
   "cell_type": "markdown",
   "metadata": {},
   "source": [
    "\n",
    "在项目的__init__.py 或者应用的__init__.py 文件中配置以下代码：\n",
    "```\n",
    "import pymsql\n",
    "pymysql.install_as_MySQLdb()\n",
    "```"
   ]
  },
  {
   "cell_type": "markdown",
   "metadata": {},
   "source": [
    "# django ORM\n"
   ]
  },
  {
   "cell_type": "markdown",
   "metadata": {},
   "source": [
    "在 models.py 中书写一个类\n",
    "```\n",
    "class UserInfo(models.Model):\n",
    "    id = models.AutoField(primary_key=true)\n",
    "    username = models.CharField(max_lenth=100)\n",
    "    password = models.CharField(max_lenth=20)\n",
    "```"
   ]
  },
  {
   "cell_type": "markdown",
   "metadata": {},
   "source": [
    "数据库迁移命令，命令行执行\n",
    "```\n",
    "python manage.py makemigrations  # 讲操作记录记到本子上（migrations文件夹中）\n",
    "python manage.py migrate  # 同步操作到数据库\n",
    "```"
   ]
  },
  {
   "cell_type": "markdown",
   "metadata": {},
   "source": [
    "# ORM 的增删改查"
   ]
  },
  {
   "cell_type": "markdown",
   "metadata": {},
   "source": [
    "## 字段的增删改查"
   ]
  },
  {
   "cell_type": "markdown",
   "metadata": {},
   "source": [
    "### 增"
   ]
  },
  {
   "cell_type": "markdown",
   "metadata": {},
   "source": [
    "1. 数据表中已经存在数据，可以直接在makemigrations时给定默认值\n",
    "2. 在增加模型类属性时，可以在属性中传递参数 null=True，进行增加\n",
    "3. 直接给属性中传递 default='xx' 参数来给字段设定默认值"
   ]
  },
  {
   "cell_type": "markdown",
   "metadata": {},
   "source": [
    "### 改"
   ]
  },
  {
   "cell_type": "markdown",
   "metadata": {},
   "source": [
    "直接修改模型类中的属性名字和参数信息后执行数据库同步操作命令即可。"
   ]
  },
  {
   "cell_type": "markdown",
   "metadata": {},
   "source": [
    "### 删"
   ]
  },
  {
   "cell_type": "markdown",
   "metadata": {},
   "source": [
    "注释掉模型类中的字段信息，在同步数据库操作命令即可。\n",
    "\n",
    "执行完毕后，字段对应的数据全部会删除掉。"
   ]
  },
  {
   "cell_type": "markdown",
   "metadata": {},
   "source": [
    "## 一点点的数据增删改查"
   ]
  },
  {
   "cell_type": "markdown",
   "metadata": {},
   "source": [
    "### 查"
   ]
  },
  {
   "cell_type": "markdown",
   "metadata": {},
   "source": [
    "查询条件数据\n",
    "```\n",
    "from app01 import models\n",
    "\n",
    "username = request.POST.get('username')\n",
    "\n",
    "# 方式一\n",
    "res = models.UserInfo.object.filter(username=username)  # 返回一个 queryset 对象，可以看成[数据对象1，数据对象2,...]的列表，数据对象是模型类UserInfo的对象。\n",
    "filter中可以传多个值，查询时默认是 and 关系。\n",
    "\n",
    "user_obj = res[0]\n",
    "username = user_object.username\n",
    "\n",
    "# 方拾贰，推荐使用\n",
    "user_obj = models.UserInfo.object.filter(username=username).firste()\n",
    "```"
   ]
  },
  {
   "cell_type": "markdown",
   "metadata": {},
   "source": [
    "查询所有数据\n",
    "```\n",
    "# 方式一\n",
    "res = models.UserInfo.objects.filter()\n",
    "查询所有数据，不推荐使用\n",
    "\n",
    "# 方拾二， 推荐使用\n",
    "res = models.UserInfo.objects.all()\n",
    "\n",
    "\n",
    "``` "
   ]
  },
  {
   "cell_type": "markdown",
   "metadata": {},
   "source": [
    "### 增"
   ]
  },
  {
   "cell_type": "markdown",
   "metadata": {},
   "source": [
    "拿到用户的数据，进行写入到数据库\n",
    "\n",
    "第一种方式：\n",
    "\n",
    "res = models.UserInfo.object.create(username=username, password=password)\n",
    "\n",
    "返回值是一个被创建的UserInfo对象本身。"
   ]
  },
  {
   "cell_type": "markdown",
   "metadata": {},
   "source": [
    "第二种方式：\n",
    "\n",
    "user_obj = models.UserInfo(username=username, password=password)  # 创建一个用户对象\n",
    "\n",
    "user_obj.save()  # 同步数据到数据库"
   ]
  },
  {
   "cell_type": "markdown",
   "metadata": {},
   "source": [
    "### 改"
   ]
  },
  {
   "cell_type": "markdown",
   "metadata": {},
   "source": [
    "拿到用户从网页传递过来的数据，对数据库中的数据修改。\n",
    "```\n",
    "# 方式一\n",
    "models.UserInfo.objects.filter(id=eidt_id).update(username=username, password=password)\n",
    "# 将filter查找到数据全部更新，是一个批量更新，只更新被修改的字段。\n",
    "\n",
    "# 方式二\n",
    "edit_data = UserInfo.objects.filter(id=edit_id).first()\n",
    "edit_data.username = username\n",
    "edit_data.password = password\n",
    "edit_data.save()\n",
    "\n",
    "# 方拾二在字段特别多的时候效率非常慢，不管数据是否更新都会更新每个字段。\n",
    "\n",
    "```"
   ]
  },
  {
   "cell_type": "markdown",
   "metadata": {},
   "source": [
    "```\n",
    "如何告诉后端用户想要编辑哪条数据？\n",
    "    将编辑按钮所在那一行数据的主键值发送到后端\n",
    "    利用url问号后面携带参数的方式\n",
    "    \n",
    "<table border=\"1\">\n",
    "    <tr>\n",
    "        <th>用户名</th>\n",
    "        <th>密码</th>\n",
    "        <th>操作</th>\n",
    "    </tr>\n",
    "    {% for user in user_info %}\n",
    "    <tr>\n",
    "        <td>{{ user.username }}</td>\n",
    "        <td>{{ user.password }}</td>\n",
    "        <td>\n",
    "            <a href=\"/edituser/?userid={{ user.id }}\">编辑</a>\n",
    "            <a href=\"/deluser/?userid={{ user.id }}\">删除</a>\n",
    "        </td>\n",
    "    </tr>\n",
    "\n",
    "    {% endfor %}\n",
    "</table>\n",
    "\n",
    "```"
   ]
  },
  {
   "cell_type": "markdown",
   "metadata": {},
   "source": [
    "### 删"
   ]
  },
  {
   "cell_type": "markdown",
   "metadata": {},
   "source": [
    "```\n",
    "# 方式一，批量删除\n",
    "delete_id = request.GET.get('userid')\n",
    "models.UserInfo.objects.filter(id=delete_id).delete()\n",
    "\n",
    "```"
   ]
  },
  {
   "cell_type": "markdown",
   "metadata": {},
   "source": [
    "代码路径：D:\\lxt\\django_learn\\my_login"
   ]
  }
 ],
 "metadata": {
  "kernelspec": {
   "display_name": "Python 3",
   "language": "python",
   "name": "python3"
  },
  "language_info": {
   "codemirror_mode": {
    "name": "ipython",
    "version": 3
   },
   "file_extension": ".py",
   "mimetype": "text/x-python",
   "name": "python",
   "nbconvert_exporter": "python",
   "pygments_lexer": "ipython3",
   "version": "3.8.5"
  }
 },
 "nbformat": 4,
 "nbformat_minor": 4
}
