{
 "cells": [
  {
   "cell_type": "markdown",
   "metadata": {},
   "source": [
    "# forms 组件"
   ]
  },
  {
   "cell_type": "markdown",
   "metadata": {},
   "source": [
    "能够完成的事情：\n",
    "    \n",
    "   - 渲染html也米娜\n",
    "   - 校验数据\n",
    "   - 展示提示信息"
   ]
  },
  {
   "cell_type": "markdown",
   "metadata": {},
   "source": [
    "## 基本使用"
   ]
  },
  {
   "cell_type": "markdown",
   "metadata": {},
   "source": [
    "写在views.py文件中\n",
    "```\n",
    "from django import forms\n",
    "\n",
    "class MyForms(forms.Form):\n",
    "    # username字符串类型最小3位最大8位\n",
    "    username = forms.CharField(min_length=3, max_length=8, lable=\"用户名\")\n",
    "    # email字段必须符合邮箱格式 xxx@xx.com\n",
    "    email = forms.EmailField()\n",
    "```"
   ]
  },
  {
   "cell_type": "markdown",
   "metadata": {},
   "source": [
    "## 校验数据"
   ]
  },
  {
   "cell_type": "markdown",
   "metadata": {},
   "source": [
    "```\n",
    "from app01 import views\n",
    "# 1 将待校验的数据组织成字典的形式传入，也可以直接传request.POST\n",
    "form_obj = views.MyForm({'username':'lll', 'email':'123'})\n",
    "# 2判断数据是否合法，该方法只有在所有的数据都合法的情况下才会返回True\n",
    "form_obj.is_valid()\n",
    "# 3 查看所有校验通过的数据\n",
    "form_obj.cleaned_data\n",
    "# 4 查看所有不符合校验规则以及不符合的原因\n",
    "form_obj.errors\n",
    "```"
   ]
  },
  {
   "cell_type": "markdown",
   "metadata": {},
   "source": [
    "校验数据只校验类中出现的字段，多传不影响，多传字段直接忽略\n",
    "\n",
    "校验数据，默认情况下，类中所有字段都必须传值\n",
    "\n",
    "form表单取消浏览器自动校验功能：\n",
    "    \n",
    "    `<form novalidate></form>`"
   ]
  },
  {
   "cell_type": "markdown",
   "metadata": {},
   "source": [
    "## 渲染标签"
   ]
  },
  {
   "cell_type": "markdown",
   "metadata": {},
   "source": [
    "forms组件只会自动帮你渲染获取用户输入的标签（input select radio checkbox）"
   ]
  },
  {
   "cell_type": "markdown",
   "metadata": {},
   "source": [
    "views.py中\n",
    "\n",
    "```\n",
    "def index(request):\n",
    "    # 1.先产生一个空对象\n",
    "    form_obj = MyForm()\n",
    "    # 2. 直接将该空对象传递给html页面\n",
    "    return render(request, 'index.html', locals())\n",
    "```"
   ]
  },
  {
   "cell_type": "markdown",
   "metadata": {},
   "source": [
    "index.html中\n",
    "\n",
    "```\n",
    "<form action=\"\" method=\"post\">\n",
    "    <p>第一种渲染方式:代码书写极少，封装程度高，不便于后续的扩展，一般情况下只在本地测试使用</p>\n",
    "    {{ form_obj.as_p }}\n",
    "    \n",
    "    <p>第二种渲染方式:可扩展性很强，但是需要书写的代码太多</p>\n",
    "    <p>{{ form_obj.username.lable }}:{{ form_obj.username}}</p>\n",
    "    \n",
    "    <p>第三种渲染方式:代码书写简单，并且可扩展性也高</p>\n",
    "    {% for form in form_obj %}\n",
    "        <p>{{ form.lable }}:{{ form }}</p>\n",
    "    {% endfor %}\n",
    "</form>\n",
    "```"
   ]
  },
  {
   "cell_type": "markdown",
   "metadata": {},
   "source": [
    "label属性默认展示是类中定义字段名首字母大写的形式"
   ]
  },
  {
   "cell_type": "markdown",
   "metadata": {},
   "source": [
    "## 展示提示信息"
   ]
  },
  {
   "cell_type": "markdown",
   "metadata": {},
   "source": [
    "浏览器会自动帮你校验数据，但是前端的校验弱不经风，需要让浏览器不做校验：\n",
    "`<form action=\"\" method=\"post\" novalidate>`"
   ]
  },
  {
   "cell_type": "markdown",
   "metadata": {},
   "source": [
    "html文件\n",
    "\n",
    "```\n",
    "<form action=\"\" method=\"post\">\n",
    "    {% for form in form_obj %}\n",
    "        <p>{{ form.lable }}:{{ form }}\n",
    "           <span style=\"color: red\">{{ form.errors.0 }}</span>\n",
    "        </p>\n",
    "    {% endfor %}\n",
    "</form>\n",
    "```"
   ]
  },
  {
   "cell_type": "markdown",
   "metadata": {},
   "source": [
    "view.py\n",
    "\n",
    "```\n",
    "def index(request):\n",
    "    # 1 先产生一个空对象\n",
    "    form_obj = MyForm()\n",
    "    if request.method == \"POST\":\n",
    "        # 校验数据\n",
    "        form_obj = MyForm(request.POST)  # 此处精髓，与前面form_obj变量同名\n",
    "        # 判断是否合法\n",
    "        if form_obj.is_valid():\n",
    "            return HttpResponse('ok')\n",
    "        # 不合法\n",
    "        \n",
    "    return render(request, 'index.html', locals())\n",
    "```"
   ]
  },
  {
   "cell_type": "markdown",
   "metadata": {},
   "source": [
    "总结：\n",
    "- 必备的条件，get请求和post传给html页面对象的变量名必须一样\n",
    "- forms组件当你数据不合法的情况下，会保存上次数据，基于之前的数据进行修改\n",
    "- 提示信息英文修改\n",
    "\n",
    "```\n",
    "username = forms.CharField(min_length=3, max_length=8, label='用户名',\n",
    "    error_messages = {\n",
    "        'min_length':'用户名最少三位',\n",
    "        'max_length':'用户名最大八位',\n",
    "        'required':'用户名不能为空'\n",
    "    }\n",
    ")\n",
    "\n",
    "email = forms.EmailField(label=\"邮箱\",\n",
    "    error_messages={\n",
    "        'invalid':\"邮箱格式不正确\",\n",
    "        'required':\"邮箱不能为空\"\n",
    "    }\n",
    ")\n",
    "```"
   ]
  },
  {
   "cell_type": "markdown",
   "metadata": {},
   "source": [
    "## 钩子函数"
   ]
  },
  {
   "cell_type": "markdown",
   "metadata": {},
   "source": [
    "在特定节点自动触发完成响应操作\n",
    "\n",
    "钩子函数在forms组件中就类似于第二道关卡，能够让我们自定义校验规则"
   ]
  },
  {
   "cell_type": "markdown",
   "metadata": {},
   "source": [
    "forms组件有两类钩子：\n",
    "    \n",
    "    - 局部钩子\n",
    "        \n",
    "        当你需要给单个字段增加校验规则的时候可以使用\n",
    "    - 全局钩子\n",
    "    \n",
    "        当你需要给多个字段添加校验规则的时候可以使用"
   ]
  },
  {
   "cell_type": "markdown",
   "metadata": {},
   "source": [
    "### 例子"
   ]
  },
  {
   "cell_type": "markdown",
   "metadata": {},
   "source": [
    "1. 校验用户名中不能含666， 只是校验username字段  局部钩子\n",
    "\n",
    "```\n",
    "class MyForms(forms.Form):\n",
    "    # 就是这个类中的一个方法\n",
    "    def clean_username(self):\n",
    "        username = self.cleaned_data.get('username')  # 走过第一道关卡后才会进入第二道关卡，第一关校验合格的数据都放在cleaned_data中\n",
    "        if '666' in username:\n",
    "            # 提示前端展示错误信息\n",
    "            self.add_error('username', '不能含666')  # 给username字段添加报错信息\n",
    "            \n",
    "        # 将钩子函数勾出来的数据再放回去\n",
    "        return username\n",
    "```"
   ]
  },
  {
   "cell_type": "markdown",
   "metadata": {},
   "source": [
    "2. 校验密码和确认密码是否一致，password和confirm两个字段 全局钩子\n",
    "\n",
    "```\n",
    "class MyForms(forms.Form):\n",
    "    def clean(self):\n",
    "        password = self.cleaned_data.get('password')\n",
    "        confirm_password = self.cleaned_data.get('confirm_password')\n",
    "        \n",
    "        if not confirm_password == password:\n",
    "            self.add_error('confirm_password', '两次密码不一致')\n",
    "            \n",
    "        # 将钩子函数勾出来的数据全部放回去\n",
    "        return self.cleaned_data\n",
    "```"
   ]
  },
  {
   "cell_type": "markdown",
   "metadata": {},
   "source": [
    "## forms组件其他参数"
   ]
  },
  {
   "cell_type": "markdown",
   "metadata": {},
   "source": [
    "```\n",
    "label 字段名\n",
    "error_messages 自定义报错信息\n",
    "initial 默认值\n",
    "required 控制字段是否必填\n",
    "    required=False 字段不是必须填写内容\n",
    "widget 控制标签样式属性\n",
    "    widget=forms.widgets.TestInput(attrs={'class':'form-control', 'username':'lxt'})  # type是文本输入框，在attr中添加属性和自定义属性\n",
    "    widget=forms.widgets.PasswoordInput(attrs={'class':'form-control c1 c2'}) # 添加多个css样式\n",
    "    # 多个属性值，直接空格隔开即可\n",
    "    \n",
    "    \n",
    "validators 第一道关卡中，支持正则校验数据\n",
    "from django.core.validators import RegexValidator\n",
    "phone = forms.CharField(\n",
    "    validators=[RegexValidator(r'^[0-9]+', '请输入数字'),\n",
    "            RegexValidator(r'^159[0-9]+', '数字必须以159开头')\n",
    "        ]\n",
    ")\n",
    "\n",
    "\n",
    "```"
   ]
  },
  {
   "cell_type": "markdown",
   "metadata": {},
   "source": [
    "其他类型渲染\n",
    "\n",
    "```\n",
    "radio \n",
    "gender = forms.ChoiceField(\n",
    "    choices=((1,'男'),(2,'女'),(3, '保密')),\n",
    "    lable=\"性别\",\n",
    "    initial=3,\n",
    "    widget=forms.widgets.RadioSelect()\n",
    ")\n",
    "\n",
    "select\n",
    "gender = forms.ChoiceField(\n",
    "    choices=((1,'男'),(2,'女'),(3, '保密')),\n",
    "    lable=\"性别\",\n",
    "    initial=3,\n",
    "    widget=forms.widgets.Select()\n",
    ")\n",
    "\n",
    "# 多选select\n",
    "hobby = forms.MutipleChoiceField(\n",
    "    choices=((1,\"篮球\"), (2,\"足球\"), (3,\"双色球\")),\n",
    "    lable=\"爱好\",\n",
    "    initial=[1,3],\n",
    "    widget=forms.widgets.SelectMutiple()\n",
    ")\n",
    "\n",
    "# 单选checkbox\n",
    "keep = forms.ChoiceField(\n",
    "    lable=\"是否记住密码\",\n",
    "    initial=\"checked\",\n",
    "    widget=forms.widgets.CheckboxInput()\n",
    ")\n",
    "\n",
    "# 多选checkbox\n",
    "hobby = forms.MutipleChoiceField(\n",
    "    choices=((1,\"篮球\"), (2,\"足球\"), (3,\"双色球\")),\n",
    "    lable=\"爱好\",\n",
    "    initial=[1,3],\n",
    "    widget=forms.widgets.CheckboxSelectMutiple()\n",
    ")\n",
    "```"
   ]
  }
 ],
 "metadata": {
  "kernelspec": {
   "display_name": "Python 3",
   "language": "python",
   "name": "python3"
  },
  "language_info": {
   "codemirror_mode": {
    "name": "ipython",
    "version": 3
   },
   "file_extension": ".py",
   "mimetype": "text/x-python",
   "name": "python",
   "nbconvert_exporter": "python",
   "pygments_lexer": "ipython3",
   "version": "3.8.5"
  }
 },
 "nbformat": 4,
 "nbformat_minor": 4
}
