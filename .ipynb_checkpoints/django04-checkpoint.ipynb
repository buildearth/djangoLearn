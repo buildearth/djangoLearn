{
 "cells": [
  {
   "cell_type": "markdown",
   "metadata": {},
   "source": [
    "# 模板层"
   ]
  },
  {
   "cell_type": "markdown",
   "metadata": {},
   "source": [
    "# 模板语法传值"
   ]
  },
  {
   "cell_type": "markdown",
   "metadata": {},
   "source": [
    "模板语法可以传递的后端python数据类型\n",
    "\n",
    "{{}}：变量相关\n",
    "\n",
    "{%%}：逻辑相关\n",
    "\n",
    "对于python后端所有数据类型均可传递。\n",
    "\n",
    "```\n",
    "传递函数名会自动加括号调用，但模板语法不支持给函数传额外的参数  {{ func }}\n",
    "传递类名也会自动加括号调用（实例化）{{ MyClass }}\n",
    "\n",
    "内部能够自动判断出当前的变量名是否可以加括号调用，如果可以就会自动执行，针对的是函数名和类名。\n",
    "\n",
    "\n",
    "模板语法取值：\n",
    "是固定格式，只能采用 '.'，既可以点字典的键也快一点序列类型的索引\n",
    "```"
   ]
  },
  {
   "cell_type": "markdown",
   "metadata": {},
   "source": [
    "# 模板语法之过滤器"
   ]
  },
  {
   "cell_type": "markdown",
   "metadata": {},
   "source": [
    "过滤器就类似于是模板语法内置的 内置方法。\n",
    "\n",
    "基本语法\n",
    "\n",
    "    {{ 数据|过滤器:参数 }}\n",
    "   "
   ]
  },
  {
   "cell_type": "markdown",
   "metadata": {},
   "source": [
    "常见内置方法\n",
    "```\n",
    "1.统计长度\n",
    "s = \"hello\"\n",
    "{{ s|length }}\n",
    "\n",
    "2.默认值，如果前面值是True就用前面的，前面bool值是False就用后面的\n",
    "b = True\n",
    "{{ b|default:'啥也不是' }}\n",
    "\n",
    "3.文件大小，自动转换成人类方便阅读的数据\n",
    "file_size = 21321\n",
    "{{ file_size|fileseizeformat }}\n",
    "\n",
    "4.日期格式化\n",
    "current_time = datetime.datetime.now()\n",
    "{{ current_time|date:'Y-m-d H:i:s' }}\n",
    "\n",
    "5.切片\n",
    "{{ l|slice:'0:4:2' }}\n",
    "\n",
    "6.窃取字符，拿到摘要，包含三个点\n",
    "{{info|truncatechars:9}}\n",
    "\n",
    "7.移除特定的字符\n",
    "{{ msg|cut:' ' }}\n",
    "\n",
    "8.拼接\n",
    "{{ l|join:'@' }}\n",
    "\n",
    "9.转义\n",
    "默认是不会将传递过来的h5语法进行转义，传什么就打印什么。\n",
    "前端\n",
    "hh = '<h1>哈喽</h1>'\n",
    "{{ hh|safe }}\n",
    "后端\n",
    "from django.utils.safestring import mark_safe\n",
    "res = makr_safe()\n",
    "\n",
    "后续写全栈项目时，前端代码不一定非要在前端写，也可以在后端写好，然后传递到前端页面\n",
    "```"
   ]
  },
  {
   "cell_type": "markdown",
   "metadata": {},
   "source": [
    "# 标签"
   ]
  },
  {
   "cell_type": "markdown",
   "metadata": {},
   "source": [
    "for else 混合使用"
   ]
  },
  {
   "cell_type": "markdown",
   "metadata": {},
   "source": [
    "```\n",
    "{% for foo in lll %}\n",
    "    {% if forloop.first %}\n",
    "        <p>第一次循环</p>\n",
    "    {% elif forloop.last %}\n",
    "        <p>最后一次循环</p>\n",
    "    {% else %}\n",
    "        <p>{{ foo }}</p>\n",
    "    {% endif %}\n",
    "    {% empty %}\n",
    "        <p>for循环的可迭代对象内部没有元素，根本没有办法循环</p>\n",
    "{% endfor %}\n",
    "```"
   ]
  },
  {
   "cell_type": "markdown",
   "metadata": {},
   "source": [
    "起别名"
   ]
  },
  {
   "cell_type": "markdown",
   "metadata": {},
   "source": [
    "```\n",
    "在with语法内就可以通过as后面的别名快速的使用到前面非常复杂获取数据的方式\n",
    "{% with d.hobby.3.info as nb %}\n",
    "    <p>{{ nb }}</p>\n",
    "{% endwith %}\n",
    "```"
   ]
  },
  {
   "cell_type": "markdown",
   "metadata": {},
   "source": [
    "# 自定义过滤器、标签、inclusion_tag"
   ]
  },
  {
   "cell_type": "markdown",
   "metadata": {},
   "source": [
    "**先三步走：**\n",
    "1. 在应用下创建一个名字**必须**叫templatetags文件夹\n",
    "2. 在该文件夹内创建**任意**名称的py文件 如 mytag.py\n",
    "3. 在该py文件中**必须**先书写下面两句话\n",
    "```\n",
    "    from django import template\n",
    "    register = template.Library()\n",
    "```"
   ]
  },
  {
   "cell_type": "markdown",
   "metadata": {},
   "source": [
    "详细实现"
   ]
  },
  {
   "cell_type": "markdown",
   "metadata": {},
   "source": [
    "1. 自定义过滤器\n",
    "\n",
    "    **过滤器最多只能有两个参数。**\n",
    "\n",
    "    在py脚本中添加\n",
    "    ```\n",
    "    @register.filter(name='baby')\n",
    "    def my_sum(v1, v2):\n",
    "        return v1+v2\n",
    "    ```\n",
    "\n",
    "    使用：\n",
    "    ```\n",
    "    在html文件中\n",
    "    {% load mytag %}\n",
    "    <p>{{ n|baby:666 }}</p>\n",
    "    ```"
   ]
  },
  {
   "cell_type": "markdown",
   "metadata": {},
   "source": [
    "2. 自定义标签\n",
    "\n",
    "    **参数任意多个**\n",
    "\n",
    "    在mytag.py脚本中添加\n",
    "    ```\n",
    "    @register.simple_tag(name='plus')\n",
    "    def plus(a, b, c, d):\n",
    "        return '{0}{1}{2}{3}'.format(a, b, c, d)\n",
    "    ```\n",
    "\n",
    "    使用\n",
    "    ```\n",
    "    {% load mytag %}\n",
    "    标签多个参数彼此之间空格隔开\n",
    "    <p>{% plus '1' '2' '3' '4' %}</p>\n",
    "    ```"
   ]
  },
  {
   "cell_type": "markdown",
   "metadata": {},
   "source": [
    "3. 自定义inclusion_tag\n",
    "\n",
    "    内部原理：先定义一个方法。在页面上调用该方法，并且可以传值到方法中，该方法会生成一些数据然后传递给一个html页面。之后将渲染好的结果放到调用的位置。\n",
    "\n",
    "    ```\n",
    "    定义\n",
    "    @register.inclusion_tag('left_menu.html')\n",
    "    def left(n):\n",
    "        data = [ '第{}项'.format(i) for i in range(n)]\n",
    "        return locals()\n",
    "\n",
    "    left_menu.html文件内容\n",
    "    可以写对数据的显示\n",
    "\n",
    "    调用\n",
    "    {% left 5 %}\n",
    "    ```\n",
    "\n",
    "    使用时机：当html页面某一个地方的页面需要传参数才能够动态的渲染出来，并且在多个页面上都需要使用到该局部，那么久考虑将该局部页面做成inclusion_tag形式。"
   ]
  },
  {
   "cell_type": "markdown",
   "metadata": {},
   "source": [
    "# 模板的继承"
   ]
  },
  {
   "cell_type": "markdown",
   "metadata": {},
   "source": [
    "一些网站上，页面整体都差不多，只是某一些局部在做变化。\n",
    "```\n",
    "模板的继承，自己下你选好一个想要继承的模板页面\n",
    "{% extends 'home.html' %}  子页面继承模板\n",
    "\n",
    "继承之后子页面和模板页面长的是一摸一摸，你需要在模板页面上提前规划可以被修改的区域\n",
    "{% block content %}\n",
    "    模板内容\n",
    "{% endblock %}\n",
    "\n",
    "子页面就可声明想要修改哪块划定的区域\n",
    "{% block content %}\n",
    "    子页面内容\n",
    "    子页面除了可以写自己的之外,还可以继续使用模板的内容\n",
    "    {{ block.super }}\n",
    "{% endblock %}\n",
    "```\n",
    "\n"
   ]
  },
  {
   "cell_type": "markdown",
   "metadata": {},
   "source": [
    "一般情况下模板页面上应该至少右三块可以被修改的区域\n",
    "\n",
    "- css区域\n",
    "- html区域\n",
    "- js区域\n",
    "\n",
    "每一个子页面都可以右自己独有的css代码，html代码，js代码."
   ]
  },
  {
   "cell_type": "markdown",
   "metadata": {},
   "source": [
    "# 模板的导入"
   ]
  },
  {
   "cell_type": "markdown",
   "metadata": {},
   "source": [
    "```\n",
    "将页面的某一个局部当成模块的形式,在需要使用的地方导入即可.\n",
    "{% include login.html %}\n",
    "```"
   ]
  }
 ],
 "metadata": {
  "kernelspec": {
   "display_name": "Python 3",
   "language": "python",
   "name": "python3"
  },
  "language_info": {
   "codemirror_mode": {
    "name": "ipython",
    "version": 3
   },
   "file_extension": ".py",
   "mimetype": "text/x-python",
   "name": "python",
   "nbconvert_exporter": "python",
   "pygments_lexer": "ipython3",
   "version": "3.8.5"
  }
 },
 "nbformat": 4,
 "nbformat_minor": 4
}
