{
 "cells": [
  {
   "cell_type": "markdown",
   "metadata": {},
   "source": [
    "# 模型层"
   ]
  },
  {
   "cell_type": "markdown",
   "metadata": {},
   "source": [
    "# 测试脚本"
   ]
  },
  {
   "cell_type": "markdown",
   "metadata": {},
   "source": [
    "当你只是项测试 django 中的某一个 py 文件,那么不可以不用写前后端交互的形式,而是直接写一个测试脚本即可\n",
    "\n",
    "脚本代码无论是写在应用下的test.py 还是自己单独写的py文件都可以."
   ]
  },
  {
   "cell_type": "markdown",
   "metadata": {},
   "source": [
    "测试环境的准备\n",
    "```\n",
    "import os\n",
    "if __name__ == \"__main__\":\n",
    "    os.environ.setdefault('DJANGO_SETTINGS_MODULE', 'day02.settings')\n",
    "    import django\n",
    "    django.setup()\n",
    "    \n",
    "    # 编写测试内容,测试django里面的单个py文件,所有测试代码都必须写在此处,包括import 模块.\n",
    "```"
   ]
  },
  {
   "cell_type": "markdown",
   "metadata": {},
   "source": [
    "# 单表操作"
   ]
  },
  {
   "cell_type": "markdown",
   "metadata": {},
   "source": []
  }
 ],
 "metadata": {
  "kernelspec": {
   "display_name": "Python 3",
   "language": "python",
   "name": "python3"
  },
  "language_info": {
   "codemirror_mode": {
    "name": "ipython",
    "version": 3
   },
   "file_extension": ".py",
   "mimetype": "text/x-python",
   "name": "python",
   "nbconvert_exporter": "python",
   "pygments_lexer": "ipython3",
   "version": "3.8.5"
  }
 },
 "nbformat": 4,
 "nbformat_minor": 4
}
