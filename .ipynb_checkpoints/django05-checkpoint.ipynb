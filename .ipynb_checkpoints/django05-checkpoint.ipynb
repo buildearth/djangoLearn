{
 "cells": [
  {
   "cell_type": "markdown",
   "metadata": {},
   "source": [
    "# 模型层"
   ]
  },
  {
   "cell_type": "markdown",
   "metadata": {},
   "source": [
    "# 测试脚本"
   ]
  },
  {
   "cell_type": "markdown",
   "metadata": {},
   "source": [
    "当你只是项测试 django 中的某一个 py 文件,那么不可以不用写前后端交互的形式,而是直接写一个测试脚本即可\n",
    "\n",
    "脚本代码无论是写在应用下的test.py 还是自己单独写的py文件都可以."
   ]
  },
  {
   "cell_type": "markdown",
   "metadata": {},
   "source": [
    "测试环境的准备\n",
    "```\n",
    "import os\n",
    "if __name__ == \"__main__\":\n",
    "    os.environ.setdefault('DJANGO_SETTINGS_MODULE', 'day02.settings')\n",
    "    import django\n",
    "    django.setup()\n",
    "    \n",
    "    # 编写测试内容,测试django里面的单个py文件,所有测试代码都必须写在此处,包括import 模块.\n",
    "```"
   ]
  },
  {
   "cell_type": "markdown",
   "metadata": {},
   "source": [
    "# 单表操作"
   ]
  },
  {
   "cell_type": "markdown",
   "metadata": {},
   "source": [
    "## 增加"
   ]
  },
  {
   "cell_type": "markdown",
   "metadata": {},
   "source": [
    "方式1：\n",
    "```\n",
    "res = models.User.objects.create(name='l', age=18, register_time='2002-1-21')\n",
    "```\n",
    "\n",
    "方式2:\n",
    "\n",
    "```\n",
    "import datetime\n",
    "zhas_obj = models.User(name='zhas', age=18, register_time=datetime.datetime.now())\n",
    "zhas_obj.save()\n",
    "```"
   ]
  },
  {
   "cell_type": "markdown",
   "metadata": {},
   "source": [
    "## 删除"
   ]
  },
  {
   "cell_type": "markdown",
   "metadata": {},
   "source": [
    "在主键查找时，推荐使用**pk**，pk会自动查找到当前表的主键字段，指代的就是当前表的主键字段，用了 pk 之后，就不需要知道当前表的主键字段到底叫什么了。\n",
    "\n",
    "方式1：\n",
    "\n",
    "```\n",
    "res = models.User.objects.filter(pk=3).delete()  # 返回被删除的信息\n",
    "```\n",
    "\n",
    "方式2：\n",
    "\n",
    "```\n",
    "user_obj = models.User.objects.filter(pk=2).first()\n",
    "user_obj.delete()\n",
    "```"
   ]
  },
  {
   "cell_type": "markdown",
   "metadata": {},
   "source": [
    "## 修改"
   ]
  },
  {
   "cell_type": "markdown",
   "metadata": {},
   "source": [
    "方式1：\n",
    "\n",
    "```\n",
    "models.User.objects.filter(pk=4).update(name='zzx')\n",
    "```\n",
    "\n",
    "方式2：\n",
    "\n",
    "```\n",
    "# get 方法返回的直接就是当前的数据对象，但不推荐使用，一旦查找的数据不存在，会直接报错\n",
    "user_obj = models.User.objects.get(pk=4)  # 直接拿到User对象\n",
    "user_obj.name = 'za'\n",
    "user_obj.save()\n",
    "```"
   ]
  },
  {
   "cell_type": "markdown",
   "metadata": {},
   "source": [
    "# 13 个必会的方法"
   ]
  },
  {
   "cell_type": "markdown",
   "metadata": {},
   "source": [
    "1. all()\n",
    "\n",
    "    查询所有数据\n",
    "2. filter()\n",
    "\n",
    "    带有过滤条件的查询\n",
    "3. get()\n",
    "\n",
    "    直接拿取数据对象，不存在会报错\n",
    "4. first()\n",
    "\n",
    "    获取 queryset 中的第一个元素\n",
    "5. last()\n",
    "\n",
    "    获取 queryset 中的最后一个元素\n",
    "6. values()\n",
    "\n",
    "    可以指定后去的数据字段，获取某个或多个字段的值\n",
    "```\n",
    "    res = models.User.objects.values('name', 'age')\n",
    "    返回的是一个queryset对象，里面元素是字典对象，key为字段名。列表套字典\n",
    "```\n",
    "7. values_list()\n",
    "\n",
    "    获取某个或多个字段的值\n",
    "```\n",
    "    res = models.User.objects.values_list('name', 'age')\n",
    "    返回的是一个QuerySet 对象，里面是列表套元组的形式，[('lxt', 18),('zxx', 29)]\n",
    "```\n",
    "8. distinct()\n",
    "\n",
    "    去重\n",
    "```\n",
    "    去重一定要是一模一样的数据，如果带有主键那么肯定不一样\n",
    "    res = models.User.objects.values('name', 'age').distinct()\n",
    "    print(res)\n",
    "```\n",
    "9. order_by()\n",
    "\n",
    "    排序\n",
    "```\n",
    "    res = models.User.objects.order_by('age')  # 默认升序\n",
    "    res = models.User.objects.order_by('-age')  # 降序\n",
    "```\n",
    "10. reverse()\n",
    "\n",
    "    反转，其前提是数据已经排序了\n",
    "```\n",
    "    res = models.User.object.order_by('age').reverse()\n",
    "    print(res)\n",
    "```\n",
    "11. count()\n",
    "\n",
    "    统计当前数据的个数\n",
    "```\n",
    "    res = models.User.objects.count()\n",
    "```\n",
    "12. exclude()\n",
    "\n",
    "    排除什么在外\n",
    "```\n",
    "    res = models.User.objects.exclude(name='lxt')\n",
    "```\n",
    "13. exists()\n",
    "    判断是否存在"
   ]
  },
  {
   "cell_type": "markdown",
   "metadata": {},
   "source": [
    "# 双下划线查询"
   ]
  },
  {
   "cell_type": "markdown",
   "metadata": {},
   "source": [
    "1. 查询年龄大于35岁的记录\n",
    "\n",
    "```\n",
    "res = models.User.objects.filter(age__gt=35)\n",
    "```\n",
    "\n",
    "2. 查询年龄是18，32，或者49的记录\n",
    "\n",
    "```\n",
    "res = models.User.objects.filter(age__in=[18, 32, 49])\n",
    "```"
   ]
  }
 ],
 "metadata": {
  "kernelspec": {
   "display_name": "Python 3",
   "language": "python",
   "name": "python3"
  },
  "language_info": {
   "codemirror_mode": {
    "name": "ipython",
    "version": 3
   },
   "file_extension": ".py",
   "mimetype": "text/x-python",
   "name": "python",
   "nbconvert_exporter": "python",
   "pygments_lexer": "ipython3",
   "version": "3.8.5"
  }
 },
 "nbformat": 4,
 "nbformat_minor": 4
}
