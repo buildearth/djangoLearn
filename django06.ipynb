{
 "cells": [
  {
   "cell_type": "markdown",
   "metadata": {},
   "source": [
    "# 模型层"
   ]
  },
  {
   "cell_type": "markdown",
   "metadata": {},
   "source": [
    "# 聚合查询"
   ]
  },
  {
   "cell_type": "markdown",
   "metadata": {},
   "source": [
    "只要是跟数据库线管的模块基本上都在**django.db.models**里面，如果没有就是在**django.db**中\n",
    "\n",
    "聚合查询通常情况下都是配合分组一起使用。\n",
    "\n",
    "模块导入：\n",
    "`from django.db.models import Max, Min, Sum, Count, Avg`\n"
   ]
  },
  {
   "cell_type": "markdown",
   "metadata": {},
   "source": [
    "1. 所有书的评价价格\n",
    "\n",
    "```\n",
    "res = models.Book.objects.aggregate(Avg('price'))\n",
    "```"
   ]
  },
  {
   "cell_type": "markdown",
   "metadata": {},
   "source": [
    "2. 上述方法一次性使用\n",
    "\n",
    "```\n",
    "res = models.Book.objects.aggregate(Avg('price'), Max('prince'))\n",
    "```"
   ]
  },
  {
   "cell_type": "markdown",
   "metadata": {},
   "source": [
    "# 分组查询"
   ]
  },
  {
   "cell_type": "markdown",
   "metadata": {},
   "source": [
    "1. 统计每一本书的作者个数\n",
    "\n",
    "```\n",
    "res = models.Book.objects.annotate()  # models后面点什么,就是按什么分组,此时按Book分组\n",
    "\n",
    "res = models.Book.objects.annotate(author_num=Count('authors')).values('title', 'author_num')\n",
    "\n",
    "# author_num 是自己定义的字段,用来存储统计出来的额每本书对应的作者个数\n",
    "```"
   ]
  },
  {
   "cell_type": "markdown",
   "metadata": {},
   "source": [
    "2. 统计每个出版社卖的最便宜的书的价格\n",
    "\n",
    "```\n",
    "res = models.Publish.objects.annotate(min_price=Min('book__price')).values('name', 'min_price')\n",
    "```"
   ]
  },
  {
   "cell_type": "markdown",
   "metadata": {},
   "source": [
    "3. 统计不止一个作者的图书\n",
    "\n",
    "```\n",
    "# 1.先按照图书分组,求每一本书对应作者个数\n",
    "# 2.过滤出不止一个作者的图书\n",
    "\n",
    "res = models.Book.objects.annotate(author_count=Count('authors')).filter(author_count__gt=1).values('name', 'author_count')\n",
    "```\n",
    "\n",
    "**只要你的orm语句得出的结果还是一个queryset对象,那么它就可以继续无限制的点queryset对象封装的方法**"
   ]
  },
  {
   "cell_type": "markdown",
   "metadata": {},
   "source": [
    "按照指定的字段分组:\n",
    "\n",
    "`models.Book.objects.valus('price').annotate()`"
   ]
  },
  {
   "cell_type": "markdown",
   "metadata": {},
   "source": [
    "# F与Q查询"
   ]
  },
  {
   "cell_type": "markdown",
   "metadata": {},
   "source": [
    "## F"
   ]
  },
  {
   "cell_type": "markdown",
   "metadata": {},
   "source": [
    "1. 查询卖出数大于库存数的书籍\n",
    "\n",
    "```\n",
    "F 查询,能够帮助你直接获取到表中的某个字段对应的数据\n",
    "\n",
    "from django.db.models import F\n",
    "res = models.Book.objects.filter(maichu__gt=F('kucun'))\n",
    "```"
   ]
  },
  {
   "cell_type": "markdown",
   "metadata": {},
   "source": [
    "2. 将所有书记的价格提升500块\n",
    "\n",
    "```\n",
    "models.Book.objects.update(price=F('price') + 500)\n",
    "```"
   ]
  },
  {
   "cell_type": "markdown",
   "metadata": {},
   "source": [
    "3. 将所有书的名称后面加上爆款两个字\n",
    "\n",
    "```\n",
    "在操作字符类型的数据时,F不能够直接做到字符串的拼接\n",
    "\n",
    "from django.db.models.functions import Concat\n",
    "from django.db.models import Value\n",
    "models.Book.objects.update(title=Concat(F('title'), Value('爆款')))\n",
    "```"
   ]
  },
  {
   "cell_type": "markdown",
   "metadata": {},
   "source": [
    "## Q"
   ]
  },
  {
   "cell_type": "markdown",
   "metadata": {},
   "source": [
    "1. 查询卖出数大于100或者价格小于600的书籍\n",
    "\n",
    "```\n",
    "from django.db.models import Q\n",
    "res = models.Book.objects.filter(Q(maichu__gt=100)|Q(price_lt=600))  # | 是 or关系,使用,分割还是and关系\n",
    "\n",
    "res = models.Book.objects.filter(~Q(maichu__gt=100)|Q(price_lt=600))  # ~ 是 not关系\n",
    "```"
   ]
  },
  {
   "cell_type": "markdown",
   "metadata": {},
   "source": [
    "Q 的高阶用法,能够将查询条件的左边也变成字符串的形式"
   ]
  },
  {
   "cell_type": "markdown",
   "metadata": {},
   "source": [
    "```\n",
    "q = Q()\n",
    "q.children.append(('maichu_gt', 100))\n",
    "q.children.append(('price_lt', 600))\n",
    "\n",
    "res = models.Book.objects.filter(q)  # 默认是and关系\n",
    "\n",
    "修改链接关系:\n",
    "q.connector = 'or'\n",
    "```"
   ]
  }
 ],
 "metadata": {
  "kernelspec": {
   "display_name": "Python 3",
   "language": "python",
   "name": "python3"
  },
  "language_info": {
   "codemirror_mode": {
    "name": "ipython",
    "version": 3
   },
   "file_extension": ".py",
   "mimetype": "text/x-python",
   "name": "python",
   "nbconvert_exporter": "python",
   "pygments_lexer": "ipython3",
   "version": "3.8.5"
  }
 },
 "nbformat": 4,
 "nbformat_minor": 4
}
