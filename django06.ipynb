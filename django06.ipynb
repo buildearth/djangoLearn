{
 "cells": [
  {
   "cell_type": "markdown",
   "metadata": {},
   "source": [
    "# 模型层"
   ]
  },
  {
   "cell_type": "markdown",
   "metadata": {},
   "source": [
    "# 聚合查询"
   ]
  },
  {
   "cell_type": "markdown",
   "metadata": {},
   "source": [
    "只要是跟数据库线管的模块基本上都在**django.db.models**里面，如果没有就是在**django.db**中\n",
    "\n",
    "聚合查询通常情况下都是配合分组一起使用。\n",
    "\n",
    "模块导入：\n",
    "`from django.db.models import Max, Min, Sum, Count, Avg`\n"
   ]
  },
  {
   "cell_type": "markdown",
   "metadata": {},
   "source": [
    "1. 所有书的评价价格\n",
    "\n",
    "```\n",
    "res = models.Book.objects.aggregate(Avg('price'))\n",
    "```"
   ]
  },
  {
   "cell_type": "markdown",
   "metadata": {},
   "source": [
    "2. 上述方法一次性使用\n",
    "\n",
    "```\n",
    "res = models.Book.objects.aggregate(Avg('price'), Max('prince'))\n",
    "```"
   ]
  },
  {
   "cell_type": "markdown",
   "metadata": {},
   "source": [
    "# 分组查询"
   ]
  },
  {
   "cell_type": "markdown",
   "metadata": {},
   "source": [
    "1. 统计每一本书的作者个数\n",
    "\n",
    "```\n",
    "res = models.Book.objects.annotate()  # models后面点什么,就是按什么分组,此时按Book分组\n",
    "\n",
    "res = models.Book.objects.annotate(author_num=Count('authors')).values('title', 'author_num')\n",
    "\n",
    "# author_num 是自己定义的字段,用来存储统计出来的额每本书对应的作者个数\n",
    "```"
   ]
  },
  {
   "cell_type": "markdown",
   "metadata": {},
   "source": [
    "2. 统计每个出版社卖的最便宜的书的价格\n",
    "\n",
    "```\n",
    "res = models.Publish.objects.annotate(min_price=Min('book__price')).values('name', 'min_price')\n",
    "```"
   ]
  },
  {
   "cell_type": "markdown",
   "metadata": {},
   "source": [
    "3. 统计不止一个作者的图书\n",
    "\n",
    "```\n",
    "# 1.先按照图书分组,求每一本书对应作者个数\n",
    "# 2.过滤出不止一个作者的图书\n",
    "\n",
    "res = models.Book.objects.annotate(author_count=Count('authors')).filter(author_count__gt=1).values('name', 'author_count')\n",
    "```\n",
    "\n",
    "**只要你的orm语句得出的结果还是一个queryset对象,那么它就可以继续无限制的点queryset对象封装的方法**"
   ]
  },
  {
   "cell_type": "markdown",
   "metadata": {},
   "source": [
    "按照指定的字段分组:\n",
    "\n",
    "`models.Book.objects.valus('price').annotate()`"
   ]
  },
  {
   "cell_type": "markdown",
   "metadata": {},
   "source": [
    "# F与Q查询"
   ]
  },
  {
   "cell_type": "markdown",
   "metadata": {},
   "source": [
    "## F"
   ]
  },
  {
   "cell_type": "markdown",
   "metadata": {},
   "source": [
    "1. 查询卖出数大于库存数的书籍\n",
    "\n",
    "```\n",
    "F 查询,能够帮助你直接获取到表中的某个字段对应的数据\n",
    "\n",
    "from django.db.models import F\n",
    "res = models.Book.objects.filter(maichu__gt=F('kucun'))\n",
    "```"
   ]
  },
  {
   "cell_type": "markdown",
   "metadata": {},
   "source": [
    "2. 将所有书记的价格提升500块\n",
    "\n",
    "```\n",
    "models.Book.objects.update(price=F('price') + 500)\n",
    "```"
   ]
  },
  {
   "cell_type": "markdown",
   "metadata": {},
   "source": [
    "3. 将所有书的名称后面加上爆款两个字\n",
    "\n",
    "```\n",
    "在操作字符类型的数据时,F不能够直接做到字符串的拼接\n",
    "\n",
    "from django.db.models.functions import Concat\n",
    "from django.db.models import Value\n",
    "models.Book.objects.update(title=Concat(F('title'), Value('爆款')))\n",
    "```"
   ]
  },
  {
   "cell_type": "markdown",
   "metadata": {},
   "source": [
    "## Q"
   ]
  },
  {
   "cell_type": "markdown",
   "metadata": {},
   "source": [
    "1. 查询卖出数大于100或者价格小于600的书籍\n",
    "\n",
    "```\n",
    "from django.db.models import Q\n",
    "res = models.Book.objects.filter(Q(maichu__gt=100)|Q(price_lt=600))  # | 是 or关系,使用,分割还是and关系\n",
    "\n",
    "res = models.Book.objects.filter(~Q(maichu__gt=100)|Q(price_lt=600))  # ~ 是 not关系\n",
    "```"
   ]
  },
  {
   "cell_type": "markdown",
   "metadata": {},
   "source": [
    "Q 的高阶用法,能够将查询条件的左边也变成字符串的形式"
   ]
  },
  {
   "cell_type": "markdown",
   "metadata": {},
   "source": [
    "```\n",
    "q = Q()\n",
    "q.children.append(('maichu_gt', 100))\n",
    "q.children.append(('price_lt', 600))\n",
    "\n",
    "res = models.Book.objects.filter(q)  # 默认是and关系\n",
    "\n",
    "修改链接关系:\n",
    "q.connector = 'or'\n",
    "```"
   ]
  },
  {
   "cell_type": "markdown",
   "metadata": {},
   "source": [
    "# django 中开启事务"
   ]
  },
  {
   "cell_type": "markdown",
   "metadata": {},
   "source": [
    "目前只需要掌握django中如何简单的开启事务。\n",
    "\n",
    "```\n",
    "from django.db import transaction\n",
    "with transaction.atomic():\n",
    "    # 此处写 书写的所有orm操作都是属于同一个事务\n",
    "```"
   ]
  },
  {
   "cell_type": "markdown",
   "metadata": {},
   "source": [
    "# orm 常用字段以及参数"
   ]
  },
  {
   "cell_type": "markdown",
   "metadata": {},
   "source": [
    "1. AutoField\n",
    "\n",
    "    主键字段 必须设置primaty_key=True\n",
    "    \n",
    "2. CharField  对应到数据库是 varchar\n",
    "\n",
    "    verbose_name  字段的注释\n",
    "    \n",
    "    max_length  长度\n",
    "    \n",
    "3. Integerfield  对应 int\n",
    "\n",
    "4. DecimalField\n",
    "\n",
    "    max_digits\n",
    "    \n",
    "    decimal_places  小数长度\n",
    "    \n",
    "5. EmailFiled  对应 varchar(254)\n",
    "\n",
    "6. DateField  对应 date\n",
    "\n",
    "7. DateTimeField  对应 datetime\n",
    "\n",
    "    auto_now  每次修改数据时自动更新当前时间\n",
    "    \n",
    "    auto_now_add 只在创建数据的时候记录创建时间后续不会自动更新\n",
    "    \n",
    "8. BooleanField  对应 布尔值类型\n",
    "\n",
    "    该字段传布尔值（False/True）  数据库里面存（0/1）\n",
    "    \n",
    "9. TextField\n",
    "\n",
    "    该字段可以用来存大段内容（文章、博客），无字数限制\n",
    "    \n",
    "10. FileField\n",
    "\n",
    "    upload_to = '/data'  给该字段传递一个文件对象，会自动将文件保存到/data目录下，然后将文件路径保存到数据库中/data/a.txt"
   ]
  },
  {
   "cell_type": "markdown",
   "metadata": {},
   "source": [
    "## django 支持自定义字段"
   ]
  },
  {
   "cell_type": "markdown",
   "metadata": {},
   "source": [
    "```\n",
    "class MyCharField(models.Field):\n",
    "    def __init__(self, max_length, *args, **kwargs):\n",
    "        self.max_length = max_length\n",
    "        # 调用父类的init方法\n",
    "        super().__init__(max_length=max_length, *args, **kwargs)\n",
    "        \n",
    "    def db_type(self, connection):\n",
    "        # 返回真正的数据类型以及各种约束条件，是数据库中的类型\n",
    "        return 'char(%s)'%self.max_length\n",
    "        \n",
    "        \n",
    "# 使用自定义字段\n",
    "myfield = MyCharField(max_length=16, null=True)\n",
    "```"
   ]
  },
  {
   "cell_type": "markdown",
   "metadata": {},
   "source": [
    "# 数据库查询优化"
   ]
  },
  {
   "cell_type": "markdown",
   "metadata": {},
   "source": [
    "orm语句的特点：\n",
    "\n",
    "    惰性查询，如果仅仅书写了orm语句，在后面根本没有用到该语句所查询出来的参数，那么orm会自动识别，直接不执行。"
   ]
  },
  {
   "cell_type": "markdown",
   "metadata": {},
   "source": [
    "## only与defer"
   ]
  },
  {
   "cell_type": "markdown",
   "metadata": {},
   "source": [
    "1. 实现一个获取到的是一个数据对象 ，然后点title就能拿到书名，并且没有其他字段\n",
    "\n",
    "```\n",
    "res = models.Book.objects.only('title')\n",
    "for i in res:\n",
    "    print(i.title)  # 点only括号内的字段，不会走数据库\n",
    "    print(i.price)  # 点only括号内没有的字段，会重新走数据库查询而all不需要走了\n",
    "```\n",
    "\n",
    "defer与only刚好相反：\n",
    "\n",
    "    defer括号内放的字段不在查询出来的对象里面，查询该字段需要重新走数据库，而如果查询的是非括号内的字段，则不需要走数据库了\n",
    "    \n",
    "```\n",
    "res = models.Book.ojects.defer('title') # 对象除了没有title属性之外其他的都有\n",
    "```"
   ]
  },
  {
   "cell_type": "markdown",
   "metadata": {},
   "source": [
    "## select_related 与 prefetch_related  跟跨表操作有关"
   ]
  },
  {
   "cell_type": "markdown",
   "metadata": {},
   "source": [
    "```\n",
    "res = models.Book.objects.all()\n",
    "for i in res:\n",
    "    print(i.publish.name)  # 每循环一次就要走一次数据库查询\n",
    "    \n",
    "    \n",
    "res = models.Book.objects.select_related('author')\n",
    "\"\"\"\n",
    "select_related内部直接先将book与publish连接起来，然后一次性将大表里面的所有数据全部封装给查询出来的对象，这个时候对象无论是点book表的数据还是publish表数据都无需再走数据库了\n",
    "\n",
    "select_related括号内只能放外键字段（一对一，一对多），多对多是不行的。\n",
    "\"\"\"\n",
    "\n",
    "\n",
    "res = models.Book.objects.prefetch_related('publish') # 子查询\n",
    "# 内部方法其实是子查询，但是在使用上的感觉两者是一样的\n",
    "```"
   ]
  },
  {
   "cell_type": "markdown",
   "metadata": {},
   "source": [
    "作业：数据库三大设计范式整理"
   ]
  }
 ],
 "metadata": {
  "kernelspec": {
   "display_name": "Python 3",
   "language": "python",
   "name": "python3"
  },
  "language_info": {
   "codemirror_mode": {
    "name": "ipython",
    "version": 3
   },
   "file_extension": ".py",
   "mimetype": "text/x-python",
   "name": "python",
   "nbconvert_exporter": "python",
   "pygments_lexer": "ipython3",
   "version": "3.8.5"
  }
 },
 "nbformat": 4,
 "nbformat_minor": 4
}
