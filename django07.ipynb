{
 "cells": [
  {
   "cell_type": "markdown",
   "metadata": {},
   "source": [
    "# choices 参数（数据库字段设计常见）"
   ]
  },
  {
   "cell_type": "markdown",
   "metadata": {},
   "source": [
    "只要某个字段的可能性是可以列举完全的，那么一般情况下都会采用**choices**参数"
   ]
  },
  {
   "cell_type": "markdown",
   "metadata": {},
   "source": [
    "```\n",
    "class User(models.Model):\n",
    "    age = models.IntegerField()\n",
    "    gender_choice = ((1,'男'),(2, '女'),(3, '其他'))\n",
    "    \n",
    "    gender = models.IntegerField(choices=gender_choices)  # gender_choice中元组第一个元素的值是什么类型，就选用什么字段。如1是整形，就选IntergerField。\n",
    "    \n",
    "    # 该gender字段存的还是数字，但是如果存的数字在上面元组列举的范围之内，那么可以非常轻松的获取到数字对应的真正内容\n",
    "    \n",
    "```"
   ]
  },
  {
   "cell_type": "markdown",
   "metadata": {},
   "source": [
    "获取内容：\n",
    "```\n",
    "user_obj = models.User.objects.filter(pk=1).first()\n",
    "# 只要是 choices 参数的字段，如果你想要获取对应的信息，固定写法 get_字段名_display()\n",
    "print(user_obj.get_gender_display())\n",
    "\n",
    "如果没有对应关系，字段是什么内容就是返回什么内容。\n",
    "```"
   ]
  },
  {
   "cell_type": "markdown",
   "metadata": {},
   "source": [
    "# 多对多三种创建方式"
   ]
  },
  {
   "cell_type": "markdown",
   "metadata": {},
   "source": [
    "1. 全自动\n",
    "    \n",
    "    利用orm自动帮我们创建第三张关系表，models.ManyToManyField(to='Author')\n",
    "    \n",
    "    优点：代码不需要你写，非常方便，还支持orm提供操作第三张关系表的方法\n",
    "    \n",
    "    不足：第三张关系表的扩展性极差（没有办法添加额外的字段）"
   ]
  },
  {
   "cell_type": "markdown",
   "metadata": {},
   "source": [
    "2. 纯手动\n",
    "\n",
    "    手动创建第三张关系表，并指定关联\n",
    "    \n",
    "```\n",
    "class Book(models.Model):\n",
    "    name = models.CharField(max_length=32)\n",
    "    \n",
    "class Author(models.Model):\n",
    "    name = models.CharFeild(max_length=32)\n",
    "    \n",
    "class Book2Author(models.Model):\n",
    "    book_id = models.ForeignKey(to='Book')\n",
    "    author_id = models.ForeignKey(to='Author')\n",
    "```\n",
    "\n",
    "    优点：第三张表完全取决于自己进行额外的扩展\n",
    "    \n",
    "    缺点：需要写的代码较多，不能够再使用orm提供的简单的方法 add remove 正反向查询等..."
   ]
  },
  {
   "cell_type": "markdown",
   "metadata": {},
   "source": [
    "3. 半自动\n",
    "\n",
    "```\n",
    "class Book(models.Model):\n",
    "    name = models.CharField(max_length=32)\n",
    "    authors = models.ManyToManyField(to='Author', through='Book2Author', through_fields=('book', 'author'))\n",
    "    # 指定第三张关系表为自己创建的表，指定book和author为关联\n",
    "    # through_fields字段的先后顺序：\n",
    "    #    判断的本质为：通过第三张表查询对应的表，需要用到哪个字段就把哪个字段放前面\n",
    "    #    简化判断：当前表是谁，就把对应的关联字段放前面\n",
    "    \n",
    "class Author(models.Model):\n",
    "    name = models.CharFeild(max_length=32)\n",
    "    \n",
    "class Book2Author(models.Model):\n",
    "    book = models.ForeignKey(to='Book')\n",
    "    author = models.ForeignKey(to='Author')\n",
    "```"
   ]
  },
  {
   "cell_type": "markdown",
   "metadata": {},
   "source": [
    "半自动：可以使用orm正反向查询，但是没法使用add，set，remove，clear这四个方法"
   ]
  },
  {
   "cell_type": "markdown",
   "metadata": {},
   "source": [
    "总结：需要掌握的是全自动和半自动，为了扩展性更高，一般我我们都会采用半自动"
   ]
  },
  {
   "cell_type": "markdown",
   "metadata": {},
   "source": [
    "# Ajax"
   ]
  },
  {
   "cell_type": "markdown",
   "metadata": {},
   "source": [
    "异步提交\n",
    "\n",
    "局部刷新"
   ]
  },
  {
   "cell_type": "markdown",
   "metadata": {},
   "source": [
    "例子：github注册\n",
    "\n",
    "    动态获取用户名实时的和后端确认并实时展示到前段（局部刷新）\n",
    "    \n",
    "ajax最大的优点是在不重新加载整个页面的情况下，可以与服务器交换数据并更新部分 网页内容（这一特点给用户的感受是在不知不觉中完成请求和响应过程）\n",
    "\n",
    "ajax我们只学习jQuery封装之后的版本，在前段使用时需要确保导入了jQuery"
   ]
  },
  {
   "cell_type": "markdown",
   "metadata": {},
   "source": [
    "## 一个加法运算的小例子"
   ]
  },
  {
   "attachments": {
    "image.png": {
     "image/png": "[encoded data removed]"
    }
   },
   "cell_type": "markdown",
   "metadata": {},
   "source": [
    "![image.png](attachment:image.png)"
   ]
  },
  {
   "cell_type": "markdown",
   "metadata": {},
   "source": [
    "ajax_ab.html"
   ]
  },
  {
   "cell_type": "markdown",
   "metadata": {},
   "source": [
    "``` html\n",
    "<!DOCTYPE html>\n",
    "<html lang=\"en\">\n",
    "<head>\n",
    "    <meta charset=\"UTF-8\">\n",
    "    <title>ajax used</title>\n",
    "    <script src=\"https://code.jquery.com/jquery-3.3.1.min.js\"></script>\n",
    "    <link rel=\"stylesheet\" href=\"https://cdn.jsdelivr.net/npm/bootstrap@3.3.7/dist/css/bootstrap.min.css\" integrity=\"sha384-BVYiiSIFeK1dGmJRAkycuHAHRg32OmUcww7on3RYdg4Va+PmSTsz/K68vbdEjh4u\" crossorigin=\"anonymous\">\n",
    "    <link rel=\"stylesheet\" href=\"https://cdn.jsdelivr.net/npm/bootstrap@3.3.7/dist/css/bootstrap-theme.min.css\" integrity=\"sha384-rHyoN1iRsVXV4nD0JutlnGaslCJuC7uwjduW9SVrLvRYooPp2bWYgmgJQIXwl/Sp\" crossorigin=\"anonymous\">\n",
    "    <script src=\"https://cdn.jsdelivr.net/npm/bootstrap@3.3.7/dist/js/bootstrap.min.js\" integrity=\"sha384-Tc5IQib027qvyjSMfHjOMaLkfuWVxZxUPnCJA7l2mCWNIpG9mGCD8wGNIcPD7Txa\" crossorigin=\"anonymous\"></script>\n",
    "</head>\n",
    "<body>\n",
    "<input type=\"text\" id=\"d1\">+\n",
    "<input type=\"text\" id=\"d2\">=\n",
    "<input type=\"text\" id=\"d3\">\n",
    "<p>\n",
    "    <button id=\"btn\">点击</button>\n",
    "</p>\n",
    "\n",
    "<script>\n",
    "//     给按钮绑定一个点击事件\n",
    "    $('#btn').click(function () {\n",
    "    // 朝后端发送ajax请求\n",
    "        $.ajax({\n",
    "            // 指定朝哪个后端发送ajax请求\n",
    "            url:'', // 不写默认就是向当前地址提交\n",
    "            type:'post', //请求方式，不指定默认就是get，都是小写\n",
    "            data:{'i1':$('#d1').val(), 'i2':$('#d2').val()},  // 数据\n",
    "            // 回调函数，当后端返回结果的时候会自动触发， args接收后端的返回结果\n",
    "            success:function (args) {\n",
    "                $('#d3').val(args)\n",
    "            }\n",
    "        })\n",
    "    })\n",
    "</script>\n",
    "</body>\n",
    "</html>\n",
    "```"
   ]
  },
  {
   "cell_type": "markdown",
   "metadata": {},
   "source": [
    "views.py"
   ]
  },
  {
   "cell_type": "markdown",
   "metadata": {},
   "source": [
    "```\n",
    "from django.shortcuts import render, HttpResponse\n",
    "from  django.http import JsonResponse\n",
    "\n",
    "# Create your views here.\n",
    "\n",
    "def ajax_ab(request):\n",
    "    if request.method == \"POST\":\n",
    "        # i1 = request.POST.get('i1')\n",
    "        # i2 = request.POST.get('i2')\n",
    "        # print(i1,i2)\n",
    "        # return JsonResponse()\n",
    "\n",
    "        # return HttpResponse(int(i1)+int(i2))\n",
    "        d = {'code':100, 'msg':55}\n",
    "        # return HttpResponse(json.dumps(d))  # 需要手动序列化数据\n",
    "        return JsonResponse(d)\n",
    "    return render(request, 'ajax_ab.html')\n",
    "```"
   ]
  },
  {
   "cell_type": "markdown",
   "metadata": {},
   "source": [
    "针对后端如果使用HttpResponse返回的数据，回调函数不会自动帮你反序列化\n",
    "\n",
    "如果后端直接用的是JsonResponse返回的数据，回调函数会自动帮你反序列化"
   ]
  },
  {
   "cell_type": "markdown",
   "metadata": {},
   "source": [
    "当你利用ajax进行前后端交互的时候，后端无论返回什么都只会被回调函数接收，而不影响这个浏览器界面了。"
   ]
  }
 ],
 "metadata": {
  "kernelspec": {
   "display_name": "Python 3",
   "language": "python",
   "name": "python3"
  },
  "language_info": {
   "codemirror_mode": {
    "name": "ipython",
    "version": 3
   },
   "file_extension": ".py",
   "mimetype": "text/x-python",
   "name": "python",
   "nbconvert_exporter": "python",
   "pygments_lexer": "ipython3",
   "version": "3.8.5"
  }
 },
 "nbformat": 4,
 "nbformat_minor": 4
}
