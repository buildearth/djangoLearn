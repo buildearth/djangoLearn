{
 "cells": [
  {
   "cell_type": "markdown",
   "metadata": {},
   "source": [
    "# forms组件源码"
   ]
  },
  {
   "cell_type": "markdown",
   "metadata": {},
   "source": [
    "切入点：form_obj.is_valied()\n",
    "\n",
    "精华所在：def full_clean(self)"
   ]
  },
  {
   "cell_type": "markdown",
   "metadata": {},
   "source": [
    "# cookie 与 session"
   ]
  },
  {
   "cell_type": "markdown",
   "metadata": {},
   "source": [
    "cookie\n",
    "\n",
    "    服务端保存在客户端浏览器上的信息都可以称之为cookie，它的表现形式一般都是K:V键值对（可以有多个）"
   ]
  },
  {
   "cell_type": "markdown",
   "metadata": {},
   "source": [
    "session\n",
    "\n",
    "    数据是保存在服务端的，并且它的表现形式一般也是k:v键值对，可以有多个。"
   ]
  },
  {
   "cell_type": "markdown",
   "metadata": {},
   "source": [
    "## Cookie操作"
   ]
  },
  {
   "cell_type": "markdown",
   "metadata": {},
   "source": [
    "cookie是服务端告诉浏览器需要保存内容，但是客户端浏览器可以选择拒绝保存。在浏览器设置中关闭cookie的保存即可，关闭掉之后只要是记录用户状态的网站登录就功能都不行了。"
   ]
  },
  {
   "cell_type": "markdown",
   "metadata": {},
   "source": [
    "视图函数返回值中，如果想要操作cookie,必须使用obj对象\n",
    "\n",
    "```\n",
    "obj = HttpResponse('1')\n",
    "# 操作cookie\n",
    "return obj\n",
    "```"
   ]
  },
  {
   "cell_type": "markdown",
   "metadata": {},
   "source": [
    "### 设置cookie"
   ]
  },
  {
   "cell_type": "markdown",
   "metadata": {},
   "source": [
    "obj.set_cookie(key,value)"
   ]
  },
  {
   "cell_type": "markdown",
   "metadata": {},
   "source": [
    "### 获取cookie"
   ]
  },
  {
   "cell_type": "markdown",
   "metadata": {},
   "source": [
    "request.COOKIES.get(key)"
   ]
  },
  {
   "cell_type": "markdown",
   "metadata": {},
   "source": [
    "设置超时时间\n",
    "```\n",
    "设置超时时间：\n",
    "\n",
    "obj.set_cookie(key,value, max_age=3, expires=3)\n",
    "max_age\n",
    "expires\n",
    "    两者都是设置超时时间的，以秒为单位，需要注意的是，针对于IE浏览器需要使用expores\n",
    "```"
   ]
  },
  {
   "cell_type": "markdown",
   "metadata": {},
   "source": [
    "主动删除cookie（注销）\n",
    "\n",
    "```\n",
    "obj.delete_cookie('username')\n",
    "\n",
    "@login_auth\n",
    "def logout(request):\n",
    "    obj = redirect('/login/')\n",
    "    obj.delete_cookie('username')\n",
    "    return obj\n",
    "```"
   ]
  },
  {
   "cell_type": "markdown",
   "metadata": {},
   "source": [
    "### 一个正真的登录功能"
   ]
  },
  {
   "cell_type": "markdown",
   "metadata": {},
   "source": [
    "```python\n",
    "def login(request):\n",
    "    if request.method == 'POST':\n",
    "        username = request.POST.get('username')\n",
    "        password = request.POST.get('password')\n",
    "        if username == 'lxt' and password == 'lxt':\n",
    "            # 保存用户登录状态\n",
    "            obj = redirect('/home')\n",
    "            # 让浏览器记录cookie数据\n",
    "            obj.set_cookie('usernam','lxt')\n",
    "            # 浏览器不单单会帮助存储，而且后面每次访问都会带着它过来\n",
    "            # 跳转到一个需要用户登录之后才能看到的页面\n",
    "            return obj\n",
    "        return render(request, 'login.html')\n",
    "\n",
    "\n",
    "def home(request):\n",
    "    # 获取cookie信息，进行判断\n",
    "    if request.COOKIES.get('username') == 'lxt':\n",
    "        return HttpResponse('home界面')\n",
    "    # 没有登录的跳转到登录页面\n",
    "    return redirect('/login/')\n",
    "```"
   ]
  },
  {
   "cell_type": "markdown",
   "metadata": {},
   "source": [
    "```python\n",
    "# 使用装饰器来校验用户是否登录的装饰器\n",
    "def login_auth(func):\n",
    "    def inner(request, *args, **kwargs):\n",
    "        # 获取用户上一次想要访问的url\n",
    "        target_url = request.get_full_path()\n",
    "        if request.COOKIES.get('username'):\n",
    "            res = func(*args, **kwargs)\n",
    "            return res\n",
    "        else:\n",
    "            return redirect('/login/?next={}'.format(target_url))\n",
    "    return inner\n",
    "\n",
    "@login_auth\n",
    "def home(request)\n",
    "    return \n",
    "\n",
    "def login(request):\n",
    "    if request.method == 'POST':\n",
    "        username = request.POST.get('username')\n",
    "        password = request.POST.get('password')\n",
    "        if username == 'lxt' and password == 'lxt':\n",
    "            # 获取用户上一次想要访问的url\n",
    "            target_url = request.GET.get('next')  # 这个结果可能是None\n",
    "            if target_url:\n",
    "                obj = redirect(target_url)\n",
    "            else:\n",
    "                # 保存用户登录状态\n",
    "                obj = redirect('/home')\n",
    "            # 让浏览器记录cookie数据\n",
    "            obj.set_cookie('usernam','lxt')\n",
    "            # 浏览器不单单会帮助存储，而且后面每次访问都会带着它过来\n",
    "            # 跳转到一个需要用户登录之后才能看到的页面\n",
    "            return obj\n",
    "        return render(request, 'login.html')\n",
    "```"
   ]
  },
  {
   "cell_type": "markdown",
   "metadata": {},
   "source": [
    "## session 操作"
   ]
  },
  {
   "cell_type": "markdown",
   "metadata": {},
   "source": [
    "session数据是保存在服端，给客户端返回一个随机字符串：sessionid:随机字符串"
   ]
  },
  {
   "cell_type": "markdown",
   "metadata": {},
   "source": [
    "```\n",
    "设置session\n",
    "request.session['key'] = value\n",
    "内部发生的事情：\n",
    "    1. django内部会自动帮你生成一个随机字符串\n",
    "    2. django 内部自动将随机字符串和对应的数据存储到django_session表中\n",
    "        2.1先在内存中产生操作数据的缓存\n",
    "        2.2在响应经过django中间件的时候才真正操作数据库\n",
    "    3. 将产生的key对应的随机字符串返回给客户端浏览器\n",
    "\n",
    "\n",
    "获取session\n",
    "request.session.get('key')\n",
    "内部发生的事情：\n",
    "    1.自动从浏览器请求中获取session_id对应的随机字符串\n",
    "    2.拿着该随机字符串去django_session表中查找对应的数据\n",
    "    3.如果比对上了。则将对应的数据去除并以字典的形式封装到request.seesion中\n",
    "        如果没有比对上，则request.session.get()返回的是None\n",
    "        \n",
    "\n",
    "设置超时时间：\n",
    "request.session.set_expiry()\n",
    "括号内可以放四种类型的参数\n",
    "    1.整数  多少秒\n",
    "    2.日期对象    到指定日期就失效\n",
    "\n",
    "不写set_expiry  失效时间取决于django内部全局session默认失效时间\n",
    "\n",
    "\n",
    "清除session\n",
    "request.session.flush()  # 浏览器和服务端都清空\n",
    "```"
   ]
  },
  {
   "cell_type": "markdown",
   "metadata": {},
   "source": [
    "默认情况下操作session需要django默认的一张表django_session表。\n",
    "\n",
    "django默认的session过期时间是14天\n",
    "\n",
    "django_session表中的数据条数是取决于浏览器的，同一个计算机上同一个浏览器只会有同一条数据生效(当session过期的时候可能会出现多条数据对应一个浏览器，但是该现象不会持续很久，内部会自动识别过期的数据清除，也可以手动清除)。主要是为了节省服务端数据库资源。"
   ]
  },
  {
   "cell_type": "markdown",
   "metadata": {},
   "source": [
    "# CBV添加装饰器"
   ]
  },
  {
   "cell_type": "markdown",
   "metadata": {},
   "source": [
    "方式1\n",
    "```python\n",
    "from django.utils.decorator import method_decorator\n",
    "class Mylogin(view):\n",
    "    @method_decorator(login_auth)\n",
    "    def get(self,request):\n",
    "        pass\n",
    "    \n",
    "    def post(self,request):\n",
    "        pass\n",
    "```"
   ]
  },
  {
   "cell_type": "markdown",
   "metadata": {},
   "source": [
    "方拾二\n",
    "```python\n",
    "\n",
    "@method_decorator(login_auth, name='get')\n",
    "@method_decorator(login_auth, name='post')\n",
    "class Mylogin(view):\n",
    "    def get(self,request):\n",
    "        pass\n",
    "\n",
    "    def post(self,request):\n",
    "        pass\n",
    "```"
   ]
  },
  {
   "cell_type": "markdown",
   "metadata": {},
   "source": [
    "方式三\n",
    "```python\n",
    "class Mylogin(view):\n",
    "    @class_decorator(login) # 它会作用域当前类里里面的所有方法\n",
    "    def dispatch(self, request, *args. **kwargs):\n",
    "        pass\n",
    "\n",
    "    def get(self,request):\n",
    "        pass\n",
    "\n",
    "    def post(self,request):\n",
    "        pass\n",
    "\n",
    "```"
   ]
  }
 ],
 "metadata": {
  "kernelspec": {
   "display_name": "Python 3",
   "language": "python",
   "name": "python3"
  },
  "language_info": {
   "codemirror_mode": {
    "name": "ipython",
    "version": 3
   },
   "file_extension": ".py",
   "mimetype": "text/x-python",
   "name": "python",
   "nbconvert_exporter": "python",
   "pygments_lexer": "ipython3",
   "version": "3.8.5"
  }
 },
 "nbformat": 4,
 "nbformat_minor": 4
}
